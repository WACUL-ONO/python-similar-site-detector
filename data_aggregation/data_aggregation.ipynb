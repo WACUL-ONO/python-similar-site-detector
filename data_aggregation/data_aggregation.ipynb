{
 "cells": [
  {
   "cell_type": "code",
   "execution_count": 1,
   "metadata": {},
   "outputs": [],
   "source": [
    "import os\n",
    "import datetime\n",
    "import random\n",
    "import os.path\n",
    "\n",
    "import pandas as pd\n",
    "import numpy as np\n",
    "\n",
    "#生成するデータファイルの格納先のpathを指定してください\n",
    "FILE_PATH = '' \n",
    "#店舗数\n",
    "NUM_SHOP = 50\n",
    "#商品数\n",
    "NUM_GOODS = 200"
   ]
  },
  {
   "cell_type": "code",
   "execution_count": 2,
   "metadata": {},
   "outputs": [
    {
     "data": {
      "text/plain": [
       "'0.22.0'"
      ]
     },
     "execution_count": 2,
     "metadata": {},
     "output_type": "execute_result"
    }
   ],
   "source": [
    "pd.__version__"
   ]
  },
  {
   "cell_type": "code",
   "execution_count": 3,
   "metadata": {},
   "outputs": [],
   "source": [
    "#日付作成\n",
    "start = datetime.datetime(2013, 1, 1)\n",
    "end = datetime.datetime(2016, 6, 30)\n",
    "\n",
    "date_list = []\n",
    "while start < end:\n",
    "    date_list.append(start.strftime('%Y/%m/%d'))\n",
    "    start +=  datetime.timedelta(days=1)\n",
    "    \n",
    "NUM_SHOP_goods = NUM_SHOP + NUM_GOODS\n"
   ]
  },
  {
   "cell_type": "code",
   "execution_count": 4,
   "metadata": {},
   "outputs": [],
   "source": [
    "#ID(店鋪&商品)取得\n",
    "random_id = random.sample(range(NUM_SHOP_goods), NUM_SHOP_goods)\n",
    "\n",
    "#店鋪idと商品idが連動しないようにした\n",
    "id_shop = random_id[:NUM_SHOP]\n",
    "id_goods = random_id[NUM_SHOP:]"
   ]
  },
  {
   "cell_type": "code",
   "execution_count": 5,
   "metadata": {},
   "outputs": [],
   "source": [
    "shop_list_data_day = []\n",
    "goods_list_data_day = []\n",
    "\n",
    "for shop in id_shop:\n",
    "    shopid_data = [shop]*len(id_goods)\n",
    "    shop_list_data_day += shopid_data\n",
    "    goods_list_data_day += id_goods\n",
    "\n",
    "# 1日あたり生成されるデータ数\n",
    "length_shop_goods_par_day = len(goods_list_data_day)\n",
    "\n",
    "\n",
    "day_list_test_data = []\n",
    "shop_list_test_data = []\n",
    "goods_list_test_data = []\n",
    "\n",
    "\n",
    "for day in date_list:\n",
    "    day_test_data = [day]*length_shop_goods_par_day\n",
    "    day_list_test_data += day_test_data\n",
    "    shop_list_test_data += shop_list_data_day\n",
    "    goods_list_test_data += goods_list_data_day\n",
    "    \n",
    "    \n",
    "    "
   ]
  },
  {
   "cell_type": "markdown",
   "metadata": {},
   "source": [
    "# 売上高と販売数量が一様乱数の場合"
   ]
  },
  {
   "cell_type": "code",
   "execution_count": 6,
   "metadata": {},
   "outputs": [],
   "source": [
    "#1の答え\n",
    "#売上高と販売数量は0~1000の一様乱数にした\n",
    "\n",
    "main_df = pd.DataFrame({\n",
    "                      'shop_id' : shop_list_test_data,\n",
    "                      'goods_id':goods_list_test_data,\n",
    "                      'sale':np.random.rand(len(day_list_test_data)) * 1000,\n",
    "                      'sales_quantity':np.random.rand(len(day_list_test_data)) * 1000\n",
    "                     }, index=pd.to_datetime(day_list_test_data))\n",
    "#保存\n",
    "main_df.to_csv( FILE_PATH)"
   ]
  },
  {
   "cell_type": "code",
   "execution_count": 7,
   "metadata": {},
   "outputs": [
    {
     "name": "stdout",
     "output_type": "stream",
     "text": [
      "作成されたcsvは 662.16MBなので正常終了\n"
     ]
    },
    {
     "data": {
      "text/plain": [
       "True"
      ]
     },
     "execution_count": 7,
     "metadata": {},
     "output_type": "execute_result"
    }
   ],
   "source": [
    "#500MB以上あるかチェック\n",
    "\n",
    "getsize_df=os.path.getsize(FILE_PATH )*9.536743164e-7\n",
    "\n",
    "\n",
    "def check_df_size(_getsize_df):\n",
    "    #500MB以上あるのか判定\n",
    "    if _getsize_df>500:\n",
    "        print(\"作成されたcsvは {:.2f}MBなので正常終了\".format(_getsize_df))\n",
    "        return True\n",
    "    else:\n",
    "        print(\"作成されたcsvは {:.2f}MBなので、あと {:.2f}MB足りません\".format(_getsize_df,500-_getsize_df))\n",
    "        raise Exception('capacity lack')\n",
    "        \n",
    "check_df_size(getsize_df)"
   ]
  },
  {
   "cell_type": "code",
   "execution_count": 8,
   "metadata": {},
   "outputs": [],
   "source": [
    "df_sum_month_group = main_df.groupby(pd.Grouper(freq='MS'))\n",
    "\n",
    "df_month_shop_list =[]\n",
    "df_month_goods_list =[]\n",
    "\n",
    "#monthには毎月の1日が格納されている\n",
    "for month in df_sum_month_group.sum().index[:]:\n",
    "    df_month = df_sum_month_group.get_group(month)\n",
    "    \n",
    "    #shop_id,goodsごとのsumをとる\n",
    "    df_month_shop_group = df_month.groupby('shop_id').sum()\n",
    "    df_month_goods_group = df_month.groupby('goods_id').sum()\n",
    "    \n",
    "    df_month_shop_group['date'] = month\n",
    "    df_month_goods_group['date'] = month\n",
    "    \n",
    "    df_month_shop_list.append(df_month_shop_group.loc[:, ['date','sale']])\n",
    "    df_month_goods_list.append(df_month_goods_group.loc[:, ['date','sale']])\n",
    "    \n",
    "#2.1と2.２の回答\n",
    "df_month_shop = pd.concat(df_month_shop_list).reset_index().loc[:,['date','shop_id','sale']]\n",
    "df_month_goods = pd.concat(df_month_goods_list).reset_index().loc[:,['date','goods_id','sale']]\n"
   ]
  },
  {
   "cell_type": "code",
   "execution_count": 9,
   "metadata": {},
   "outputs": [],
   "source": [
    "#2.3の回答\n",
    "\n",
    "#有効数字10桁に変更\n",
    "pd.options.display.precision = 10\n",
    "def get_sale_division(_x):\n",
    "    sale,sales_quantity = _x\n",
    "    #有効数字10桁\n",
    "    return float(format(sale/sales_quantity, '.10f'))\n",
    "\n",
    "\n",
    "df_day_group = main_df.groupby(pd.Grouper(freq='D'))\n",
    "\n",
    "df_goods_mean_list = []\n",
    "for day in df_day_group.sum().index[:]:\n",
    "    \n",
    "    df_day_division_list = []\n",
    "    df_day = df_day_group.get_group(day)\n",
    "    df_day_shop_group = df_day.groupby('shop_id')\n",
    "    for shop_id in id_shop[:]:\n",
    "        df_day_shop = df_day_shop_group.get_group(shop_id).copy()\n",
    "        df_day_shop['sale/sale_quantity'] = df_day_shop.loc[:,['sale','sales_quantity']].apply(get_sale_division,axis=1)\n",
    "        df_day_division_list.append(df_day_shop)\n",
    "    df_shop_id_day_mean = pd.concat(df_day_division_list).groupby('goods_id').mean()\n",
    "    df_shop_id_day_mean['day'] = day\n",
    "    df_goods_mean_list.append(df_shop_id_day_mean)\n",
    "    \n",
    "\n",
    "df_goods_mean = pd.concat(df_goods_mean_list).reset_index().loc[:, ['day','goods_id','sale/sale_quantity']]\n"
   ]
  },
  {
   "cell_type": "markdown",
   "metadata": {},
   "source": [
    "# 解答(5行まで出力)"
   ]
  },
  {
   "cell_type": "code",
   "execution_count": 10,
   "metadata": {},
   "outputs": [
    {
     "data": {
      "text/html": [
       "<div>\n",
       "<style scoped>\n",
       "    .dataframe tbody tr th:only-of-type {\n",
       "        vertical-align: middle;\n",
       "    }\n",
       "\n",
       "    .dataframe tbody tr th {\n",
       "        vertical-align: top;\n",
       "    }\n",
       "\n",
       "    .dataframe thead th {\n",
       "        text-align: right;\n",
       "    }\n",
       "</style>\n",
       "<table border=\"1\" class=\"dataframe\">\n",
       "  <thead>\n",
       "    <tr style=\"text-align: right;\">\n",
       "      <th></th>\n",
       "      <th>goods_id</th>\n",
       "      <th>sale</th>\n",
       "      <th>sales_quantity</th>\n",
       "      <th>shop_id</th>\n",
       "    </tr>\n",
       "  </thead>\n",
       "  <tbody>\n",
       "    <tr>\n",
       "      <th>2013-01-01</th>\n",
       "      <td>107</td>\n",
       "      <td>9.5534230623</td>\n",
       "      <td>355.6812675999</td>\n",
       "      <td>66</td>\n",
       "    </tr>\n",
       "    <tr>\n",
       "      <th>2013-01-01</th>\n",
       "      <td>203</td>\n",
       "      <td>733.1375249226</td>\n",
       "      <td>204.7802622928</td>\n",
       "      <td>66</td>\n",
       "    </tr>\n",
       "    <tr>\n",
       "      <th>2013-01-01</th>\n",
       "      <td>6</td>\n",
       "      <td>36.8355920021</td>\n",
       "      <td>686.1620768920</td>\n",
       "      <td>66</td>\n",
       "    </tr>\n",
       "    <tr>\n",
       "      <th>2013-01-01</th>\n",
       "      <td>183</td>\n",
       "      <td>580.1201881010</td>\n",
       "      <td>200.6342933389</td>\n",
       "      <td>66</td>\n",
       "    </tr>\n",
       "    <tr>\n",
       "      <th>2013-01-01</th>\n",
       "      <td>36</td>\n",
       "      <td>217.0481734970</td>\n",
       "      <td>582.4778378337</td>\n",
       "      <td>66</td>\n",
       "    </tr>\n",
       "  </tbody>\n",
       "</table>\n",
       "</div>"
      ],
      "text/plain": [
       "            goods_id            sale  sales_quantity  shop_id\n",
       "2013-01-01       107    9.5534230623  355.6812675999       66\n",
       "2013-01-01       203  733.1375249226  204.7802622928       66\n",
       "2013-01-01         6   36.8355920021  686.1620768920       66\n",
       "2013-01-01       183  580.1201881010  200.6342933389       66\n",
       "2013-01-01        36  217.0481734970  582.4778378337       66"
      ]
     },
     "execution_count": 10,
     "metadata": {},
     "output_type": "execute_result"
    }
   ],
   "source": [
    "#1\n",
    "main_df.head()"
   ]
  },
  {
   "cell_type": "code",
   "execution_count": 11,
   "metadata": {},
   "outputs": [
    {
     "data": {
      "text/html": [
       "<div>\n",
       "<style scoped>\n",
       "    .dataframe tbody tr th:only-of-type {\n",
       "        vertical-align: middle;\n",
       "    }\n",
       "\n",
       "    .dataframe tbody tr th {\n",
       "        vertical-align: top;\n",
       "    }\n",
       "\n",
       "    .dataframe thead th {\n",
       "        text-align: right;\n",
       "    }\n",
       "</style>\n",
       "<table border=\"1\" class=\"dataframe\">\n",
       "  <thead>\n",
       "    <tr style=\"text-align: right;\">\n",
       "      <th></th>\n",
       "      <th>date</th>\n",
       "      <th>shop_id</th>\n",
       "      <th>sale</th>\n",
       "    </tr>\n",
       "  </thead>\n",
       "  <tbody>\n",
       "    <tr>\n",
       "      <th>0</th>\n",
       "      <td>2013-01-01</td>\n",
       "      <td>3</td>\n",
       "      <td>3.1018225243e+06</td>\n",
       "    </tr>\n",
       "    <tr>\n",
       "      <th>1</th>\n",
       "      <td>2013-01-01</td>\n",
       "      <td>7</td>\n",
       "      <td>3.1052421788e+06</td>\n",
       "    </tr>\n",
       "    <tr>\n",
       "      <th>2</th>\n",
       "      <td>2013-01-01</td>\n",
       "      <td>17</td>\n",
       "      <td>3.0760369845e+06</td>\n",
       "    </tr>\n",
       "    <tr>\n",
       "      <th>3</th>\n",
       "      <td>2013-01-01</td>\n",
       "      <td>20</td>\n",
       "      <td>3.0972320584e+06</td>\n",
       "    </tr>\n",
       "    <tr>\n",
       "      <th>4</th>\n",
       "      <td>2013-01-01</td>\n",
       "      <td>25</td>\n",
       "      <td>3.0983841108e+06</td>\n",
       "    </tr>\n",
       "  </tbody>\n",
       "</table>\n",
       "</div>"
      ],
      "text/plain": [
       "        date  shop_id              sale\n",
       "0 2013-01-01        3  3.1018225243e+06\n",
       "1 2013-01-01        7  3.1052421788e+06\n",
       "2 2013-01-01       17  3.0760369845e+06\n",
       "3 2013-01-01       20  3.0972320584e+06\n",
       "4 2013-01-01       25  3.0983841108e+06"
      ]
     },
     "execution_count": 11,
     "metadata": {},
     "output_type": "execute_result"
    }
   ],
   "source": [
    "#2.1\n",
    "df_month_shop.head()"
   ]
  },
  {
   "cell_type": "code",
   "execution_count": 12,
   "metadata": {},
   "outputs": [
    {
     "data": {
      "text/html": [
       "<div>\n",
       "<style scoped>\n",
       "    .dataframe tbody tr th:only-of-type {\n",
       "        vertical-align: middle;\n",
       "    }\n",
       "\n",
       "    .dataframe tbody tr th {\n",
       "        vertical-align: top;\n",
       "    }\n",
       "\n",
       "    .dataframe thead th {\n",
       "        text-align: right;\n",
       "    }\n",
       "</style>\n",
       "<table border=\"1\" class=\"dataframe\">\n",
       "  <thead>\n",
       "    <tr style=\"text-align: right;\">\n",
       "      <th></th>\n",
       "      <th>date</th>\n",
       "      <th>goods_id</th>\n",
       "      <th>sale</th>\n",
       "    </tr>\n",
       "  </thead>\n",
       "  <tbody>\n",
       "    <tr>\n",
       "      <th>0</th>\n",
       "      <td>2013-01-01</td>\n",
       "      <td>0</td>\n",
       "      <td>774825.2462648593</td>\n",
       "    </tr>\n",
       "    <tr>\n",
       "      <th>1</th>\n",
       "      <td>2013-01-01</td>\n",
       "      <td>1</td>\n",
       "      <td>752302.6217068972</td>\n",
       "    </tr>\n",
       "    <tr>\n",
       "      <th>2</th>\n",
       "      <td>2013-01-01</td>\n",
       "      <td>2</td>\n",
       "      <td>761064.9996454796</td>\n",
       "    </tr>\n",
       "    <tr>\n",
       "      <th>3</th>\n",
       "      <td>2013-01-01</td>\n",
       "      <td>4</td>\n",
       "      <td>774542.9842884388</td>\n",
       "    </tr>\n",
       "    <tr>\n",
       "      <th>4</th>\n",
       "      <td>2013-01-01</td>\n",
       "      <td>5</td>\n",
       "      <td>766257.9733379297</td>\n",
       "    </tr>\n",
       "  </tbody>\n",
       "</table>\n",
       "</div>"
      ],
      "text/plain": [
       "        date  goods_id               sale\n",
       "0 2013-01-01         0  774825.2462648593\n",
       "1 2013-01-01         1  752302.6217068972\n",
       "2 2013-01-01         2  761064.9996454796\n",
       "3 2013-01-01         4  774542.9842884388\n",
       "4 2013-01-01         5  766257.9733379297"
      ]
     },
     "execution_count": 12,
     "metadata": {},
     "output_type": "execute_result"
    }
   ],
   "source": [
    "#2.2\n",
    "df_month_goods.head()"
   ]
  },
  {
   "cell_type": "code",
   "execution_count": 13,
   "metadata": {},
   "outputs": [
    {
     "data": {
      "text/html": [
       "<div>\n",
       "<style scoped>\n",
       "    .dataframe tbody tr th:only-of-type {\n",
       "        vertical-align: middle;\n",
       "    }\n",
       "\n",
       "    .dataframe tbody tr th {\n",
       "        vertical-align: top;\n",
       "    }\n",
       "\n",
       "    .dataframe thead th {\n",
       "        text-align: right;\n",
       "    }\n",
       "</style>\n",
       "<table border=\"1\" class=\"dataframe\">\n",
       "  <thead>\n",
       "    <tr style=\"text-align: right;\">\n",
       "      <th></th>\n",
       "      <th>day</th>\n",
       "      <th>goods_id</th>\n",
       "      <th>sale/sale_quantity</th>\n",
       "    </tr>\n",
       "  </thead>\n",
       "  <tbody>\n",
       "    <tr>\n",
       "      <th>0</th>\n",
       "      <td>2013-01-01</td>\n",
       "      <td>0</td>\n",
       "      <td>1.2878012114</td>\n",
       "    </tr>\n",
       "    <tr>\n",
       "      <th>1</th>\n",
       "      <td>2013-01-01</td>\n",
       "      <td>1</td>\n",
       "      <td>1.5515892244</td>\n",
       "    </tr>\n",
       "    <tr>\n",
       "      <th>2</th>\n",
       "      <td>2013-01-01</td>\n",
       "      <td>2</td>\n",
       "      <td>1.5389206563</td>\n",
       "    </tr>\n",
       "    <tr>\n",
       "      <th>3</th>\n",
       "      <td>2013-01-01</td>\n",
       "      <td>4</td>\n",
       "      <td>9.5425605030</td>\n",
       "    </tr>\n",
       "    <tr>\n",
       "      <th>4</th>\n",
       "      <td>2013-01-01</td>\n",
       "      <td>5</td>\n",
       "      <td>2.7550923200</td>\n",
       "    </tr>\n",
       "  </tbody>\n",
       "</table>\n",
       "</div>"
      ],
      "text/plain": [
       "         day  goods_id  sale/sale_quantity\n",
       "0 2013-01-01         0        1.2878012114\n",
       "1 2013-01-01         1        1.5515892244\n",
       "2 2013-01-01         2        1.5389206563\n",
       "3 2013-01-01         4        9.5425605030\n",
       "4 2013-01-01         5        2.7550923200"
      ]
     },
     "execution_count": 13,
     "metadata": {},
     "output_type": "execute_result"
    }
   ],
   "source": [
    "#2.3\n",
    "df_goods_mean.head()"
   ]
  }
 ],
 "metadata": {
  "kernelspec": {
   "display_name": "Python [conda env:anaconda3-4.1.1]",
   "language": "python",
   "name": "conda-env-anaconda3-4.1.1-py"
  },
  "language_info": {
   "codemirror_mode": {
    "name": "ipython",
    "version": 3
   },
   "file_extension": ".py",
   "mimetype": "text/x-python",
   "name": "python",
   "nbconvert_exporter": "python",
   "pygments_lexer": "ipython3",
   "version": "3.5.4"
  }
 },
 "nbformat": 4,
 "nbformat_minor": 2
}
