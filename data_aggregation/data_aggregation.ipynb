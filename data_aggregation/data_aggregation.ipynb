{
 "cells": [
  {
   "cell_type": "code",
   "execution_count": 1,
   "metadata": {},
   "outputs": [],
   "source": [
    "import os\n",
    "import datetime\n",
    "import random\n",
    "import os.path\n",
    "\n",
    "import pandas as pd\n",
    "import numpy as np\n",
    "\n",
    "#生成するデータファイルの格納先のpathを指定してください\n",
    "FILE_PATH = '/Users/hiroshiono/ono_project/text' \n",
    "\n",
    "NUM_SHOP = 10\n",
    "\n",
    "NUM_GOODS = 20"
   ]
  },
  {
   "cell_type": "code",
   "execution_count": 2,
   "metadata": {},
   "outputs": [
    {
     "data": {
      "text/plain": [
       "'0.22.0'"
      ]
     },
     "execution_count": 2,
     "metadata": {},
     "output_type": "execute_result"
    }
   ],
   "source": [
    "pd.__version__"
   ]
  },
  {
   "cell_type": "code",
   "execution_count": 3,
   "metadata": {},
   "outputs": [],
   "source": [
    "\n",
    "start = datetime.datetime(2013, 1, 1)\n",
    "end = datetime.datetime(2016, 6, 30)\n",
    "\n",
    "date_list = []\n",
    "while start < end:\n",
    "    date_list.append(start.strftime('%Y/%m/%d'))\n",
    "    start +=  datetime.timedelta(days=1)\n",
    "    \n",
    "NUM_SHOP_goods = NUM_SHOP + NUM_GOODS\n"
   ]
  },
  {
   "cell_type": "code",
   "execution_count": 4,
   "metadata": {},
   "outputs": [],
   "source": [
    "random_id = random.sample(range(NUM_SHOP_goods), NUM_SHOP_goods)\n",
    "\n",
    "id_shop = random_id[:NUM_SHOP]\n",
    "id_goods = random_id[NUM_SHOP:]"
   ]
  },
  {
   "cell_type": "code",
   "execution_count": 5,
   "metadata": {},
   "outputs": [],
   "source": [
    "shop_list_data_day = []\n",
    "goods_list_data_day = []\n",
    "\n",
    "for shop in id_shop:\n",
    "    shopid_data = [shop]*len(id_goods)\n",
    "    shop_list_data_day += shopid_data\n",
    "    goods_list_data_day += id_goods\n",
    "\n",
    "#\n",
    "length_shop_goods_par_day = len(goods_list_data_day)\n",
    "\n",
    "\n",
    "day_list_test_data = []\n",
    "shop_list_test_data = []\n",
    "goods_list_test_data = []\n",
    "\n",
    "\n",
    "for day in date_list:\n",
    "    day_test_data = [day]*length_shop_goods_par_day\n",
    "    day_list_test_data += day_test_data\n",
    "    shop_list_test_data += shop_list_data_day\n",
    "    goods_list_test_data += goods_list_data_day\n",
    "    \n",
    "    \n",
    "    "
   ]
  },
  {
   "cell_type": "code",
   "execution_count": 6,
   "metadata": {},
   "outputs": [],
   "source": [
    "main_df = pd.DataFrame({\n",
    "                      'shop_id' : shop_list_test_data,\n",
    "                      'goods_id':goods_list_test_data,\n",
    "                      'sale':np.random.rand(len(day_list_test_data)) * 1000,\n",
    "                      'sales_quantity':np.random.rand(len(day_list_test_data)) * 1000\n",
    "                     }, index=pd.to_datetime(day_list_test_data))\n",
    "#保存\n",
    "main_df.to_csv( FILE_PATH)"
   ]
  },
  {
   "cell_type": "code",
   "execution_count": 7,
   "metadata": {},
   "outputs": [
    {
     "name": "stdout",
     "output_type": "stream",
     "text": [
      "作成されたcsvは 12.83MBなので正常終了\n"
     ]
    },
    {
     "data": {
      "text/plain": [
       "True"
      ]
     },
     "execution_count": 7,
     "metadata": {},
     "output_type": "execute_result"
    }
   ],
   "source": [
    "\n",
    "getsize_df=os.path.getsize(FILE_PATH )*9.536743164e-7\n",
    "\n",
    "\n",
    "def check_df_size(_getsize_df):\n",
    "    if _getsize_df>10:\n",
    "        print(\"作成されたcsvは {:.2f}MBなので正常終了\".format(_getsize_df))\n",
    "        return True\n",
    "    else:\n",
    "        print(\"作成されたcsvは {:.2f}MBなので、あと {:.2f}MB足りません\".format(_getsize_df,500-_getsize_df))\n",
    "        raise Exception('capacity lack')\n",
    "        \n",
    "check_df_size(getsize_df)"
   ]
  },
  {
   "cell_type": "code",
   "execution_count": 8,
   "metadata": {},
   "outputs": [],
   "source": [
    "df_sum_month_group = main_df.groupby(pd.Grouper(freq='MS'))\n",
    "\n",
    "df_month_shop_list =[]\n",
    "df_month_goods_list =[]\n",
    "\n",
    "for month in df_sum_month_group.sum().index[:]:\n",
    "    df_month = df_sum_month_group.get_group(month)\n",
    "    \n",
    "    df_month_shop_group = df_month.groupby('shop_id').sum()\n",
    "    df_month_goods_group = df_month.groupby('goods_id').sum()\n",
    "    \n",
    "    df_month_shop_group['date'] = month\n",
    "    df_month_goods_group['date'] = month\n",
    "    \n",
    "    df_month_shop_list.append(df_month_shop_group.loc[:, ['date','sale']])\n",
    "    df_month_goods_list.append(df_month_goods_group.loc[:, ['date','sale']])\n",
    "    \n",
    "df_month_shop = pd.concat(df_month_shop_list).reset_index().loc[:,['date','shop_id','sale']]\n",
    "df_month_goods = pd.concat(df_month_goods_list).reset_index().loc[:,['date','goods_id','sale']]\n"
   ]
  },
  {
   "cell_type": "code",
   "execution_count": 9,
   "metadata": {},
   "outputs": [],
   "source": [
    "\n",
    "pd.options.display.precision = 10\n",
    "def get_sale_division(_x):\n",
    "    sale,sales_quantity = _x\n",
    "    \n",
    "    return float(format(sale/sales_quantity, '.10f'))\n",
    "\n",
    "\n",
    "df_day_group = main_df.groupby(pd.Grouper(freq='D'))\n",
    "\n",
    "df_goods_mean_list = []\n",
    "for day in df_day_group.sum().index[:]:\n",
    "    \n",
    "    df_day_division_list = []\n",
    "    df_day = df_day_group.get_group(day)\n",
    "    df_day_shop_group = df_day.groupby('shop_id')\n",
    "    for shop_id in id_shop[:]:\n",
    "        df_day_shop = df_day_shop_group.get_group(shop_id).copy()\n",
    "        df_day_shop['sale/sale_quantity'] = df_day_shop.loc[:,['sale','sales_quantity']].apply(get_sale_division,axis=1)\n",
    "        df_day_division_list.append(df_day_shop)\n",
    "    df_shop_id_day_mean = pd.concat(df_day_division_list).groupby('goods_id').mean()\n",
    "    df_shop_id_day_mean['day'] = day\n",
    "    df_goods_mean_list.append(df_shop_id_day_mean)\n",
    "    \n",
    "\n",
    "df_goods_mean = pd.concat(df_goods_mean_list).reset_index().loc[:, ['day','goods_id','sale/sale_quantity']]\n"
   ]
  },
  {
   "cell_type": "code",
   "execution_count": 10,
   "metadata": {},
   "outputs": [
    {
     "data": {
      "text/html": [
       "<div>\n",
       "<style scoped>\n",
       "    .dataframe tbody tr th:only-of-type {\n",
       "        vertical-align: middle;\n",
       "    }\n",
       "\n",
       "    .dataframe tbody tr th {\n",
       "        vertical-align: top;\n",
       "    }\n",
       "\n",
       "    .dataframe thead th {\n",
       "        text-align: right;\n",
       "    }\n",
       "</style>\n",
       "<table border=\"1\" class=\"dataframe\">\n",
       "  <thead>\n",
       "    <tr style=\"text-align: right;\">\n",
       "      <th></th>\n",
       "      <th>goods_id</th>\n",
       "      <th>sale</th>\n",
       "      <th>sales_quantity</th>\n",
       "      <th>shop_id</th>\n",
       "    </tr>\n",
       "  </thead>\n",
       "  <tbody>\n",
       "    <tr>\n",
       "      <th>2013-01-01</th>\n",
       "      <td>0</td>\n",
       "      <td>734.0047041118</td>\n",
       "      <td>976.1966801310</td>\n",
       "      <td>18</td>\n",
       "    </tr>\n",
       "    <tr>\n",
       "      <th>2013-01-01</th>\n",
       "      <td>14</td>\n",
       "      <td>507.6459009329</td>\n",
       "      <td>325.1486566567</td>\n",
       "      <td>18</td>\n",
       "    </tr>\n",
       "    <tr>\n",
       "      <th>2013-01-01</th>\n",
       "      <td>25</td>\n",
       "      <td>236.9122156336</td>\n",
       "      <td>720.4011480627</td>\n",
       "      <td>18</td>\n",
       "    </tr>\n",
       "    <tr>\n",
       "      <th>2013-01-01</th>\n",
       "      <td>29</td>\n",
       "      <td>162.0440895326</td>\n",
       "      <td>496.9328550451</td>\n",
       "      <td>18</td>\n",
       "    </tr>\n",
       "    <tr>\n",
       "      <th>2013-01-01</th>\n",
       "      <td>23</td>\n",
       "      <td>659.9186226980</td>\n",
       "      <td>235.2966616013</td>\n",
       "      <td>18</td>\n",
       "    </tr>\n",
       "  </tbody>\n",
       "</table>\n",
       "</div>"
      ],
      "text/plain": [
       "            goods_id            sale  sales_quantity  shop_id\n",
       "2013-01-01         0  734.0047041118  976.1966801310       18\n",
       "2013-01-01        14  507.6459009329  325.1486566567       18\n",
       "2013-01-01        25  236.9122156336  720.4011480627       18\n",
       "2013-01-01        29  162.0440895326  496.9328550451       18\n",
       "2013-01-01        23  659.9186226980  235.2966616013       18"
      ]
     },
     "execution_count": 10,
     "metadata": {},
     "output_type": "execute_result"
    }
   ],
   "source": [
    "main_df.head()"
   ]
  },
  {
   "cell_type": "code",
   "execution_count": 11,
   "metadata": {},
   "outputs": [
    {
     "data": {
      "text/html": [
       "<div>\n",
       "<style scoped>\n",
       "    .dataframe tbody tr th:only-of-type {\n",
       "        vertical-align: middle;\n",
       "    }\n",
       "\n",
       "    .dataframe tbody tr th {\n",
       "        vertical-align: top;\n",
       "    }\n",
       "\n",
       "    .dataframe thead th {\n",
       "        text-align: right;\n",
       "    }\n",
       "</style>\n",
       "<table border=\"1\" class=\"dataframe\">\n",
       "  <thead>\n",
       "    <tr style=\"text-align: right;\">\n",
       "      <th></th>\n",
       "      <th>date</th>\n",
       "      <th>shop_id</th>\n",
       "      <th>sale</th>\n",
       "    </tr>\n",
       "  </thead>\n",
       "  <tbody>\n",
       "    <tr>\n",
       "      <th>0</th>\n",
       "      <td>2013-01-01</td>\n",
       "      <td>7</td>\n",
       "      <td>310289.2779826038</td>\n",
       "    </tr>\n",
       "    <tr>\n",
       "      <th>1</th>\n",
       "      <td>2013-01-01</td>\n",
       "      <td>8</td>\n",
       "      <td>305936.1418522086</td>\n",
       "    </tr>\n",
       "    <tr>\n",
       "      <th>2</th>\n",
       "      <td>2013-01-01</td>\n",
       "      <td>10</td>\n",
       "      <td>298205.4896665026</td>\n",
       "    </tr>\n",
       "    <tr>\n",
       "      <th>3</th>\n",
       "      <td>2013-01-01</td>\n",
       "      <td>12</td>\n",
       "      <td>317410.8229606421</td>\n",
       "    </tr>\n",
       "    <tr>\n",
       "      <th>4</th>\n",
       "      <td>2013-01-01</td>\n",
       "      <td>15</td>\n",
       "      <td>311003.0594466545</td>\n",
       "    </tr>\n",
       "  </tbody>\n",
       "</table>\n",
       "</div>"
      ],
      "text/plain": [
       "        date  shop_id               sale\n",
       "0 2013-01-01        7  310289.2779826038\n",
       "1 2013-01-01        8  305936.1418522086\n",
       "2 2013-01-01       10  298205.4896665026\n",
       "3 2013-01-01       12  317410.8229606421\n",
       "4 2013-01-01       15  311003.0594466545"
      ]
     },
     "execution_count": 11,
     "metadata": {},
     "output_type": "execute_result"
    }
   ],
   "source": [
    "df_month_shop.head()"
   ]
  },
  {
   "cell_type": "code",
   "execution_count": 12,
   "metadata": {},
   "outputs": [
    {
     "data": {
      "text/html": [
       "<div>\n",
       "<style scoped>\n",
       "    .dataframe tbody tr th:only-of-type {\n",
       "        vertical-align: middle;\n",
       "    }\n",
       "\n",
       "    .dataframe tbody tr th {\n",
       "        vertical-align: top;\n",
       "    }\n",
       "\n",
       "    .dataframe thead th {\n",
       "        text-align: right;\n",
       "    }\n",
       "</style>\n",
       "<table border=\"1\" class=\"dataframe\">\n",
       "  <thead>\n",
       "    <tr style=\"text-align: right;\">\n",
       "      <th></th>\n",
       "      <th>date</th>\n",
       "      <th>goods_id</th>\n",
       "      <th>sale</th>\n",
       "    </tr>\n",
       "  </thead>\n",
       "  <tbody>\n",
       "    <tr>\n",
       "      <th>0</th>\n",
       "      <td>2013-01-01</td>\n",
       "      <td>0</td>\n",
       "      <td>152992.1186705921</td>\n",
       "    </tr>\n",
       "    <tr>\n",
       "      <th>1</th>\n",
       "      <td>2013-01-01</td>\n",
       "      <td>1</td>\n",
       "      <td>160529.3404542719</td>\n",
       "    </tr>\n",
       "    <tr>\n",
       "      <th>2</th>\n",
       "      <td>2013-01-01</td>\n",
       "      <td>2</td>\n",
       "      <td>158531.4720524671</td>\n",
       "    </tr>\n",
       "    <tr>\n",
       "      <th>3</th>\n",
       "      <td>2013-01-01</td>\n",
       "      <td>3</td>\n",
       "      <td>154613.8969377864</td>\n",
       "    </tr>\n",
       "    <tr>\n",
       "      <th>4</th>\n",
       "      <td>2013-01-01</td>\n",
       "      <td>4</td>\n",
       "      <td>155174.0075894637</td>\n",
       "    </tr>\n",
       "  </tbody>\n",
       "</table>\n",
       "</div>"
      ],
      "text/plain": [
       "        date  goods_id               sale\n",
       "0 2013-01-01         0  152992.1186705921\n",
       "1 2013-01-01         1  160529.3404542719\n",
       "2 2013-01-01         2  158531.4720524671\n",
       "3 2013-01-01         3  154613.8969377864\n",
       "4 2013-01-01         4  155174.0075894637"
      ]
     },
     "execution_count": 12,
     "metadata": {},
     "output_type": "execute_result"
    }
   ],
   "source": [
    "df_month_goods.head()"
   ]
  },
  {
   "cell_type": "code",
   "execution_count": 13,
   "metadata": {},
   "outputs": [
    {
     "data": {
      "text/html": [
       "<div>\n",
       "<style scoped>\n",
       "    .dataframe tbody tr th:only-of-type {\n",
       "        vertical-align: middle;\n",
       "    }\n",
       "\n",
       "    .dataframe tbody tr th {\n",
       "        vertical-align: top;\n",
       "    }\n",
       "\n",
       "    .dataframe thead th {\n",
       "        text-align: right;\n",
       "    }\n",
       "</style>\n",
       "<table border=\"1\" class=\"dataframe\">\n",
       "  <thead>\n",
       "    <tr style=\"text-align: right;\">\n",
       "      <th></th>\n",
       "      <th>day</th>\n",
       "      <th>goods_id</th>\n",
       "      <th>sale/sale_quantity</th>\n",
       "    </tr>\n",
       "  </thead>\n",
       "  <tbody>\n",
       "    <tr>\n",
       "      <th>0</th>\n",
       "      <td>2013-01-01</td>\n",
       "      <td>0</td>\n",
       "      <td>1.5124484920</td>\n",
       "    </tr>\n",
       "    <tr>\n",
       "      <th>1</th>\n",
       "      <td>2013-01-01</td>\n",
       "      <td>1</td>\n",
       "      <td>15.9502037919</td>\n",
       "    </tr>\n",
       "    <tr>\n",
       "      <th>2</th>\n",
       "      <td>2013-01-01</td>\n",
       "      <td>2</td>\n",
       "      <td>1.1886903920</td>\n",
       "    </tr>\n",
       "    <tr>\n",
       "      <th>3</th>\n",
       "      <td>2013-01-01</td>\n",
       "      <td>3</td>\n",
       "      <td>11.3607699446</td>\n",
       "    </tr>\n",
       "    <tr>\n",
       "      <th>4</th>\n",
       "      <td>2013-01-01</td>\n",
       "      <td>4</td>\n",
       "      <td>1.6588192187</td>\n",
       "    </tr>\n",
       "  </tbody>\n",
       "</table>\n",
       "</div>"
      ],
      "text/plain": [
       "         day  goods_id  sale/sale_quantity\n",
       "0 2013-01-01         0        1.5124484920\n",
       "1 2013-01-01         1       15.9502037919\n",
       "2 2013-01-01         2        1.1886903920\n",
       "3 2013-01-01         3       11.3607699446\n",
       "4 2013-01-01         4        1.6588192187"
      ]
     },
     "execution_count": 13,
     "metadata": {},
     "output_type": "execute_result"
    }
   ],
   "source": [
    "df_goods_mean.head()"
   ]
  }
 ],
 "metadata": {
  "kernelspec": {
   "display_name": "Python 3",
   "language": "python",
   "name": "python3"
  },
  "language_info": {
   "codemirror_mode": {
    "name": "ipython",
    "version": 3
   },
   "file_extension": ".py",
   "mimetype": "text/x-python",
   "name": "python",
   "nbconvert_exporter": "python",
   "pygments_lexer": "ipython3",
   "version": "3.5.5"
  }
 },
 "nbformat": 4,
 "nbformat_minor": 2
}
