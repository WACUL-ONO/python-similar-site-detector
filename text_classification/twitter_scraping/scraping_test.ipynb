{
 "cells": [
  {
   "cell_type": "code",
   "execution_count": 1,
   "metadata": {},
   "outputs": [],
   "source": [
    "import os\n",
    "\n",
    "from requests_oauthlib import OAuth1Session\n",
    "import tweepy\n",
    "\n",
    "import twitter_access"
   ]
  },
  {
   "cell_type": "code",
   "execution_count": 2,
   "metadata": {},
   "outputs": [],
   "source": [
    "CONSUMER_KEY = twitter_access.twitter_dict['CONSUMER_KEY']\n",
    "CONSUMER_SECRET =twitter_access.twitter_dict['CONSUMER_SECRET']\n",
    "ACCESS_TOKEN = twitter_access.twitter_dict['ACCESS_TOKEN']\n",
    "ACCESS_TOKEN_SECRET = twitter_access.twitter_dict['ACCESS_TOKEN_SECRET']"
   ]
  },
  {
   "cell_type": "code",
   "execution_count": null,
   "metadata": {},
   "outputs": [],
   "source": [
    "\"\"\"\n",
    "#自分のタイムライン取得\n",
    "# 認証情報を使ってOAuth1Sessionオブジェクトを得る。\n",
    "twitter = OAuth1Session(CONSUMER_KEY,\n",
    "                        client_secret=CONSUMER_SECRET,\n",
    "                        resource_owner_key=ACCESS_TOKEN,\n",
    "                        resource_owner_secret=ACCESS_TOKEN_SECRET)\n",
    "\n",
    "# ユーザーのタイムラインを取得する。\n",
    "response = twitter.get('https://api.twitter.com/1.1/statuses/home_timeline.json')\n",
    "\n",
    "# APIのレスポンスはJSON形式の文字列なので、response.json()でパースしてlistを取得できる。\n",
    "# statusはツイート（Twitter APIではStatusと呼ばれる）を表すdict。\n",
    "for status in response.json():\n",
    "     # ユーザー名とツイートを表示する。\n",
    "    print('@' + status['user']['screen_name'], status['text']) \n",
    "\"\"\"\n"
   ]
  },
  {
   "cell_type": "code",
   "execution_count": null,
   "metadata": {},
   "outputs": [],
   "source": [
    "# Creating the authentication object\n",
    "auth = tweepy.OAuthHandler(CONSUMER_KEY, CONSUMER_SECRET)\n",
    "# Setting your access token and secret\n",
    "auth.set_access_token(ACCESS_TOKEN, ACCESS_TOKEN_SECRET)\n",
    "# Creating the API object while passing in auth information\n",
    "api = tweepy.API(auth) \n",
    "\n",
    "# Using the API object to get tweets from your timeline, and storing it in a variable called public_tweets\n",
    "public_tweets = api.home_timeline()\n",
    "# foreach through all tweets pulled\n",
    "for tweet in public_tweets:\n",
    "   # printing the text stored inside the tweet object\n",
    "   print (tweet.text)"
   ]
  },
  {
   "cell_type": "code",
   "execution_count": 2,
   "metadata": {},
   "outputs": [
    {
     "ename": "NameError",
     "evalue": "name 'tweet' is not defined",
     "output_type": "error",
     "traceback": [
      "\u001b[0;31m---------------------------------------------------------------------------\u001b[0m",
      "\u001b[0;31mNameError\u001b[0m                                 Traceback (most recent call last)",
      "\u001b[0;32m<ipython-input-2-cf4e43e0e610>\u001b[0m in \u001b[0;36m<module>\u001b[0;34m()\u001b[0m\n\u001b[1;32m      1\u001b[0m \u001b[0;31m#1人のツイート情報\u001b[0m\u001b[0;34m\u001b[0m\u001b[0;34m\u001b[0m\u001b[0m\n\u001b[0;32m----> 2\u001b[0;31m \u001b[0mtweet\u001b[0m\u001b[0;34m\u001b[0m\u001b[0m\n\u001b[0m",
      "\u001b[0;31mNameError\u001b[0m: name 'tweet' is not defined"
     ]
    }
   ],
   "source": [
    "#1人のツイート情報\n",
    "tweet"
   ]
  },
  {
   "cell_type": "code",
   "execution_count": 6,
   "metadata": {},
   "outputs": [
    {
     "data": {
      "text/plain": [
       "datetime.datetime(2018, 1, 25, 11, 58, 51)"
      ]
     },
     "execution_count": 6,
     "metadata": {},
     "output_type": "execute_result"
    }
   ],
   "source": [
    "tweet.created_at"
   ]
  },
  {
   "cell_type": "code",
   "execution_count": 7,
   "metadata": {},
   "outputs": [
    {
     "data": {
      "text/plain": [
       "datetime.datetime(2018, 1, 25, 11, 58, 51)"
      ]
     },
     "execution_count": 7,
     "metadata": {},
     "output_type": "execute_result"
    }
   ],
   "source": [
    "#時間\n",
    "tweet.created_at"
   ]
  },
  {
   "cell_type": "code",
   "execution_count": 8,
   "metadata": {},
   "outputs": [
    {
     "data": {
      "text/plain": [
       "'makoto0218ne56'"
      ]
     },
     "execution_count": 8,
     "metadata": {},
     "output_type": "execute_result"
    }
   ],
   "source": [
    "tweet.user.screen_name"
   ]
  },
  {
   "cell_type": "code",
   "execution_count": 9,
   "metadata": {},
   "outputs": [
    {
     "data": {
      "text/plain": [
       "''"
      ]
     },
     "execution_count": 9,
     "metadata": {},
     "output_type": "execute_result"
    }
   ],
   "source": [
    "tweet.user.location"
   ]
  },
  {
   "cell_type": "code",
   "execution_count": 3,
   "metadata": {},
   "outputs": [
    {
     "ename": "NameError",
     "evalue": "name 'auth' is not defined",
     "output_type": "error",
     "traceback": [
      "\u001b[0;31m---------------------------------------------------------------------------\u001b[0m",
      "\u001b[0;31mNameError\u001b[0m                                 Traceback (most recent call last)",
      "\u001b[0;32m<ipython-input-3-a439c891ce91>\u001b[0m in \u001b[0;36m<module>\u001b[0;34m()\u001b[0m\n\u001b[1;32m      2\u001b[0m \u001b[0;34m\u001b[0m\u001b[0m\n\u001b[1;32m      3\u001b[0m \u001b[0;31m# Creating the API object while passing in auth information\u001b[0m\u001b[0;34m\u001b[0m\u001b[0;34m\u001b[0m\u001b[0m\n\u001b[0;32m----> 4\u001b[0;31m \u001b[0mapi\u001b[0m \u001b[0;34m=\u001b[0m \u001b[0mtweepy\u001b[0m\u001b[0;34m.\u001b[0m\u001b[0mAPI\u001b[0m\u001b[0;34m(\u001b[0m\u001b[0mauth\u001b[0m\u001b[0;34m)\u001b[0m\u001b[0;34m\u001b[0m\u001b[0m\n\u001b[0m\u001b[1;32m      5\u001b[0m \u001b[0;34m\u001b[0m\u001b[0m\n\u001b[1;32m      6\u001b[0m \u001b[0;31m# The Twitter user who we want to get tweets from\u001b[0m\u001b[0;34m\u001b[0m\u001b[0;34m\u001b[0m\u001b[0m\n",
      "\u001b[0;31mNameError\u001b[0m: name 'auth' is not defined"
     ]
    }
   ],
   "source": [
    "#\n",
    "\n",
    "# Creating the API object while passing in auth information\n",
    "api = tweepy.API(auth)\n",
    "\n",
    "# The Twitter user who we want to get tweets from\n",
    "name = \"ochyai\"\n",
    "# Number of tweets to pull\n",
    "tweetCount = 20\n",
    "\n",
    "# Calling the user_timeline function with our parameters\n",
    "results = api.user_timeline(id=name, count=tweetCount)\n",
    "\n",
    "# foreach through all tweets pulled\n",
    "for tweet in results:\n",
    "   # printing the text stored inside the tweet object\n",
    "   print (tweet.text)"
   ]
  },
  {
   "cell_type": "code",
   "execution_count": 4,
   "metadata": {},
   "outputs": [
    {
     "ename": "NameError",
     "evalue": "name 'auth' is not defined",
     "output_type": "error",
     "traceback": [
      "\u001b[0;31m---------------------------------------------------------------------------\u001b[0m",
      "\u001b[0;31mNameError\u001b[0m                                 Traceback (most recent call last)",
      "\u001b[0;32m<ipython-input-4-d2230e42464b>\u001b[0m in \u001b[0;36m<module>\u001b[0;34m()\u001b[0m\n\u001b[1;32m      1\u001b[0m \u001b[0;31m# Creating the API object while passing in auth information\u001b[0m\u001b[0;34m\u001b[0m\u001b[0;34m\u001b[0m\u001b[0m\n\u001b[0;32m----> 2\u001b[0;31m \u001b[0mapi\u001b[0m \u001b[0;34m=\u001b[0m \u001b[0mtweepy\u001b[0m\u001b[0;34m.\u001b[0m\u001b[0mAPI\u001b[0m\u001b[0;34m(\u001b[0m\u001b[0mauth\u001b[0m\u001b[0;34m)\u001b[0m\u001b[0;34m\u001b[0m\u001b[0m\n\u001b[0m\u001b[1;32m      3\u001b[0m \u001b[0;34m\u001b[0m\u001b[0m\n\u001b[1;32m      4\u001b[0m \u001b[0;31m# The search term you want to find\u001b[0m\u001b[0;34m\u001b[0m\u001b[0;34m\u001b[0m\u001b[0m\n\u001b[1;32m      5\u001b[0m \u001b[0mquery\u001b[0m \u001b[0;34m=\u001b[0m \u001b[0;34m\"島耕作\"\u001b[0m\u001b[0;34m\u001b[0m\u001b[0m\n",
      "\u001b[0;31mNameError\u001b[0m: name 'auth' is not defined"
     ]
    }
   ],
   "source": [
    "# Creating the API object while passing in auth information\n",
    "api = tweepy.API(auth)\n",
    "\n",
    "# The search term you want to find\n",
    "query = \"島耕作\"\n",
    "# Language code (follows ISO 639-1 standards)\n",
    "language = \"en\"\n",
    "\n",
    "# Calling the user_timeline function with our parameters\n",
    "results = api.search(q=query, lang=language)\n",
    "\n",
    "# foreach through all tweets pulled\n",
    "for tweet in results:\n",
    "   # printing the text stored inside the tweet object\n",
    "    print (\"time: \",tweet.created_at,\"User: \",tweet.user.screen_name)\n",
    "    print(\"text: \",tweet.text)"
   ]
  },
  {
   "cell_type": "code",
   "execution_count": 6,
   "metadata": {
    "scrolled": false
   },
   "outputs": [
    {
     "data": {
      "text/plain": [
       "'\\n#####\\n\\n# The search term you want to find\\nquery = \"ビットコイン\"\\n# Language code (follows ISO 639-1 standards)\\nlanguage = \"ja\"\\n\\n# Calling the user_timeline function with our parameters\\nresults = api.search(q=query, lang=language)\\n\\n# foreach through all tweets pulled\\nfor tweet in results:\\n   # printing the text stored inside the tweet object\\n    print (\"time: \",tweet.created_at,\"User: \",tweet.user.screen_name)\\n    print(\"text: \",tweet.text)\\n\\n\\n'"
      ]
     },
     "execution_count": 6,
     "metadata": {},
     "output_type": "execute_result"
    },
    {
     "name": "stdout",
     "output_type": "stream",
     "text": [
      "time 2018-01-27 12:25:22\n",
      "@denmushikokuro Bitcoin, Ethereum, Bitcoin Cash, Ripple, IOTA, Litecoin, NEM, Cardano: Price Analysis, Jan. 25 https://t.co/FHsC5zHnR0\n",
      "time 2018-01-27 12:25:23\n",
      "@AltcoinBaggins That's what I call proper cold storage for one's #crypto. A piece of DNA containing $BTC private key.  \n",
      "This is nor… https://t.co/GQi9QJ2V7H\n",
      "time 2018-01-27 12:25:23\n",
      "@RMv7W6BUPaq750a @EnkayGloria Missed Bitcoin fork and didn't get bictoin cash for free? Here is another chance to claim it. If you h… https://t.co/6MGDzPBtbz\n",
      "time 2018-01-27 12:25:23\n",
      "@williamsthing RT @tapbot_paul: Bitcoin is totally the future. https://t.co/axq91JJmMw\n",
      "time 2018-01-27 12:25:24\n",
      "@EmLindley @trbouma @JoeAndrieu In fairness to the article there are some developing blockchain identity “solutions” that don’… https://t.co/MHNXE4LOvl\n",
      "time 2018-01-27 12:25:24\n",
      "@RonnieFins 💰 Pre-ICO Token Sale: 50% BONUS 💰\n",
      "\n",
      "GenieICO: Business Loans Asset Exchange!\n",
      "\n",
      "GET BONUS here:… https://t.co/CBZlJnuNXe\n",
      "time 2018-01-27 12:25:25\n",
      "@KhairiahMunirah RT @ahmedtwinkie: The type of accidents I’m tryna make https://t.co/l4kV635Z3h\n",
      "time 2018-01-27 12:25:25\n",
      "@RMv7W6BUPaq750a @Aleksey4453 Missed Bitcoin fork and didn't get bictoin cash for free? Here is another chance to claim it. If you h… https://t.co/712MINIExw\n",
      "time 2018-01-27 12:25:25\n",
      "@Lastixile_Stark RT @ArminVanBitcoin: The lightning network now has 5X more nodes and 9X more channels than it had a week ago. 👏\n",
      "\n",
      "Nodes: 252 ( +500% in one…\n",
      "time 2018-01-27 12:25:26\n",
      "@Iteration23 RT @ahmetasabanci: “Levin also acknowledged that one of the event MCs \"made an offensive remark about women in crypto, and was fired immedi…\n",
      "time 2018-01-27 12:25:26\n",
      "@Tonnie_Taller Tech Q&amp;A: Investing in Bitcoin, Alexa saves lives, cord-sorting hacks, and more https://t.co/LMeISrOiM9 https://t.co/9ow1Y4tSiE\n",
      "time 2018-01-27 12:25:27\n",
      "@Breus777 RT @red1coin: Paper Mill Name Registration in Ethiopia!!\n",
      " Be part of our growing community..\n",
      " Real Project and Products. Stay tuned for mor…\n",
      "time 2018-01-27 12:25:27\n",
      "@RMv7W6BUPaq750a @coincrete Missed Bitcoin fork and didn't get bictoin cash for free? Here is another chance to claim it. If you had… https://t.co/an7hXrvsNl\n",
      "time 2018-01-27 12:25:29\n",
      "@RMv7W6BUPaq750a @howard_lao Missed Bitcoin fork and didn't get bictoin cash for free? Here is another chance to claim it. If you ha… https://t.co/p6CunhOYJS\n",
      "time 2018-01-27 12:25:32\n",
      "@mjoriginal01 RT @iamjosephyoung: Bitcoin is being adopted at a rapid rate by the real estate sector. This week, Japanese realtor revealed that it is sel…\n",
      "time 2018-01-27 12:25:32\n",
      "@bitcoin4545 @Cryptowiz4 @cryptomanran Bitcoin Automated Trading | Daily 3.5% Income\n",
      "Earn 3.5% daily profit with Bitcoin Automat… https://t.co/xeKvOMepts\n",
      "time 2018-01-27 12:25:33\n",
      "@funnygem75 RT @DerinCag: Top 20 Blockchain Books &amp; Whitepapers https://t.co/LYrZbdAoMT #bitcoin #economics2 https://t.co/JOWPwUEHQc\n",
      "time 2018-01-27 12:25:33\n",
      "@RMv7W6BUPaq750a @ihechinyerem Missed Bitcoin fork and didn't get bictoin cash for free? Here is another chance to claim it. If you… https://t.co/Y94j0nZ2t4\n",
      "time 2018-01-27 12:25:35\n",
      "@RMv7W6BUPaq750a @Aleksey4453 Missed Bitcoin fork and didn't get bictoin cash for free? Here is another chance to claim it. If you h… https://t.co/R3OAK1Oi5d\n",
      "time 2018-01-27 12:25:36\n",
      "@777_sofija Grow your income #xpander #jollycoin #x1 #x2 #BTC #bitcoin https://t.co/vPdGbs7Wnu https://t.co/0vIQaA0wlC\n",
      "time 2018-01-27 12:25:37\n",
      "@bitcoin4545 Bitcoin Automated Trading | Daily 3.5% Income\n",
      "Earn 3.5% daily profit with Bitcoin Automated Trading, Free bitcoin d… https://t.co/SFKDIPFPUG\n",
      "time 2018-01-27 12:25:37\n",
      "@muhamma23438770 Dear #Experty Community, we are back to green - where we are now? #Blockchain #Cryptocurrencies #Ethereum #Bitcoin… https://t.co/nmBsAZpDCJ\n",
      "time 2018-01-27 12:25:38\n",
      "@donny_v_68 RT @IosToficial: #Tron #btc #Tron #btc #binance #mcafee #ETH #verge #xvg #crypto #currency #cryptocurrency #ryancfay #davidgokhshtein #bitc…\n",
      "time 2018-01-27 12:25:40\n",
      "@cashflow101 RT @MarkTOByrne: Store of value? ... #bitcoin https://t.co/L0CVPFxps7\n",
      "time 2018-01-27 12:25:41\n",
      "@investjeje Cobinhood to Adopt Controversial Stablecoin Tether After Termination of Banking Services https://t.co/qer4zz5mSx… https://t.co/k8PKpcBlxM\n",
      "time 2018-01-27 12:25:41\n",
      "@Wifliton 🚀Join #IOST AIRDROP before it finish\n",
      "Follow @IOStoken and invite friends to get 68 💰IOST💰 FOR FREE :… https://t.co/yhZ6NAeebO\n",
      "time 2018-01-27 12:25:42\n",
      "@Leconghuan663xw RT @rolik911: Start making decent money! Free $10 000 practice account.\n",
      "Where will the chart go: upwards or downwards?\n",
      "Sign up to get 100%…\n",
      "time 2018-01-27 12:25:42\n",
      "@Jordyjaa RT @CryptoEscobar: $btc there is a hidden bearish divergence on hourly\n",
      "\n",
      "#Crypto #Trading #Cryptomarkets #CryptoTraders #Bitcoin #altcoin #A…\n",
      "time 2018-01-27 12:25:45\n",
      "@fakhrul824 RT @CrowdCoinage: There is a lot of controversial ideas about cryptocurrencies. Now the tricky subject of cryptocurrencies is tackled by gl…\n",
      "time 2018-01-27 12:25:45\n",
      "@Cryptowiz4 @missnatoshi Check out this group for the latest crypto information to get ahead of the game🔭. Pumps to come 🚀👽🚀… https://t.co/4s52BlDUVC\n",
      "time 2018-01-27 12:25:46\n",
      "@jackcsseyah RT @BTC_Prime1: CME Bitcoin future Contract Expires \n",
      "\n",
      "What will be the effect on Market?\n",
      "#btc #bitcoin #eth #ethereum #xrp #ripple #ltc #li…\n",
      "time 2018-01-27 12:25:46\n",
      "@thomas_smedt RT @NixonGiveaways: FIRST 500 PEOPLE TO RT AND FOLLOW ME GETS FREE $20 WORTH OF BTC!🤟🔥\n",
      "\n",
      "#giveaway #bitcoin #btc #CryptoNews #crypto #crypto…\n",
      "time 2018-01-27 12:25:47\n",
      "@Zandan20 @Crypton_Trader Missed Bitcoin fork and didn't get bictoin cash for free? Here is another chance to claim it. If yo… https://t.co/f4Zxv61p8o\n",
      "time 2018-01-27 12:25:48\n",
      "@developerhcnews Japanese Bitcoin Exchange Bitflyer Now in Europe https://t.co/TqDXLz8fXM\n",
      "time 2018-01-27 12:25:48\n",
      "@Dickie75362382 RT @Aruwba: Retweet some retweeters will get a dm!😈\n",
      "\n",
      "Come see my full story on my premium snap and watch me play with my pussy live now!\n",
      "😼O…\n",
      "time 2018-01-27 12:25:49\n",
      "@sokashindozoku Will Justice Be Served? Bitcoin Trading Platform BitConnect Sued by Six Investors Who Lost Over $700k https://t.co/7sTpzHSpiN\n",
      "time 2018-01-27 12:25:49\n",
      "@coinspectator FBI Warns About Bitcoin Murder Scam #ethereum #crypto #ico https://t.co/Zt5W9mWI7f https://t.co/Bcv2NzjiPw\n",
      "time 2018-01-27 12:25:49\n",
      "@CryptoInvest18 BAT looking good this morning! 10% UP in an hour! 🔥🔥🔥💰💰💰 Hottest coin so fat today while markets are down.. #crypto… https://t.co/ZS3L9gGCqE\n",
      "time 2018-01-27 12:25:52\n",
      "@PBabkou RT @globitex_: \"Bitcoin's current interest rate is between 28% and 35%, there's a market for #bitcoin lending which Globitex will offer too…\n",
      "time 2018-01-27 12:25:54\n",
      "@vishnunalapa @VinnyLingham Not this time. Exchange hack had zero impact on bitcoin price this time\n",
      "time 2018-01-27 12:25:54\n",
      "@liamppatterson @Kal_Leigh Yup! The only benefit now you’ll have is if you anonymously want to buy drugs or weapons and maybe even… https://t.co/72iRfAwyn3\n",
      "time 2018-01-27 12:25:55\n",
      "@EsSeKeR6 good luck https://t.co/AD6pWhWNiA\n",
      "time 2018-01-27 12:25:55\n",
      "@bobo_daman RT @Aruwba: Retweet some retweeters will get a dm!😈\n",
      "\n",
      "Come see my full story on my premium snap and watch me play with my pussy live now!\n",
      "😼O…\n",
      "time 2018-01-27 12:25:55\n",
      "@MattCav1415 Netflix coming out swinging https://t.co/OyHrBc4XY6\n",
      "time 2018-01-27 12:25:55\n",
      "@BouhalloufMoha1 RT @Token_Karma: Our token is going really well so far! Now, we are starting another airdrop. Fill in the form below to join Airdrop Round…\n",
      "time 2018-01-27 12:25:57\n",
      "@Network_Factory The #Bitcoin News  - has just been published!https://t.co/8UMxzuCMeG #bitcoin #blockchain\n",
      "time 2018-01-27 12:25:57\n",
      "@Zandan20 @bitcoin_hersey Missed Bitcoin fork and didn't get bictoin cash for free? Here is another chance to claim it. If yo… https://t.co/oqICwJvsvn\n",
      "time 2018-01-27 12:25:58\n",
      "@daams_dam RT @Aruwba: Retweet some retweeters will get a dm!😈\n",
      "\n",
      "Come see my full story on my premium snap and watch me play with my pussy live now!\n",
      "😼O…\n",
      "time 2018-01-27 12:26:01\n",
      "@kidokinkinza What’s The Predicted Worth Of Bitcoin, Litecoin And Ethereum Coins By 2020, 2025, 2030? https://t.co/1u76YMjuNF\n",
      "time 2018-01-27 12:26:01\n",
      "@Necio_news RT @mvasey: Meet on Internet of Things on Monday https://t.co/PHQhjqkb7y #IoT #InternetOfThings #IIoT #IndustrialIoT #Industry40 #AI #Machi…\n"
     ]
    }
   ],
   "source": [
    "# 認証情報を設定する。\n",
    "auth = tweepy.OAuthHandler(CONSUMER_KEY, CONSUMER_SECRET)\n",
    "auth.set_access_token(ACCESS_TOKEN, ACCESS_TOKEN_SECRET)\n",
    "\n",
    "\n",
    "class MyStreamListener(tweepy.StreamListener):\n",
    "\n",
    "    \"\"\"\n",
    "    Streaming APIで取得したツイートを処理するためのクラス。\n",
    "    \"\"\"\n",
    "    \n",
    "    def on_status(self, status):\n",
    "        \"\"\"\n",
    "        ツイートを受信したときに呼び出されるメソッド。引数はツイートを表すStatusオブジェクト。\n",
    "        \"\"\"\n",
    "        print('time',status.created_at)\n",
    "        print('@' + status.author.screen_name, status.text)\n",
    "        #print(status)\n",
    " \n",
    "\n",
    "    \n",
    "\n",
    "# 認証情報とStreamListenerを指定してStreamオブジェクトを取得する。\n",
    "stream = tweepy.Stream(auth, MyStreamListener())\n",
    "stream.filter(languages=['en'],track=['BITCOIN','Bitcoin','bitcoin','BTC/USD'],async=True)\n",
    "\n",
    "#stream.filter(track=[u'島耕作'])\n",
    "\n",
    "# 公開されているツイートをサンプリングしたストリームを受信する。\n",
    "# キーワード引数languagesで、日本語のツイートのみに絞り込む。\n",
    "\n",
    "#stream.sample(languages=['ja'])\n",
    "\n",
    "#stream.filter(track=[u'島耕作'])\n",
    "#stream.sample(languages=['ja'])\n",
    "\n",
    "\n",
    "\n",
    "\n",
    "\"\"\"\n",
    "#####\n",
    "\n",
    "# The search term you want to find\n",
    "query = \"ビットコイン\"\n",
    "# Language code (follows ISO 639-1 standards)\n",
    "language = \"ja\"\n",
    "\n",
    "# Calling the user_timeline function with our parameters\n",
    "results = api.search(q=query, lang=language)\n",
    "\n",
    "# foreach through all tweets pulled\n",
    "for tweet in results:\n",
    "   # printing the text stored inside the tweet object\n",
    "    print (\"time: \",tweet.created_at,\"User: \",tweet.user.screen_name)\n",
    "    print(\"text: \",tweet.text)\n",
    "\n",
    "\n",
    "\"\"\""
   ]
  },
  {
   "cell_type": "code",
   "execution_count": 3,
   "metadata": {},
   "outputs": [],
   "source": [
    "import os\n",
    "\n",
    "import pytz\n",
    "from requests_oauthlib import OAuth1Session\n",
    "import tweepy\n",
    "\n",
    "import twitter_access\n",
    "\n",
    "import pickle\n",
    "import logging\n",
    "\n",
    "from datetime import datetime\n",
    "\n",
    "formatter = '[%(levelname)s] %(asctime)s %(message)s %(name)s'\n",
    "logging.basicConfig(level=logging.INFO, format=formatter)\n",
    "logger = logging.getLogger(__name__)\n",
    "\n",
    "\n",
    "CONSUMER_KEY = twitter_access.twitter_dict['CONSUMER_KEY']\n",
    "CONSUMER_SECRET =twitter_access.twitter_dict['CONSUMER_SECRET']\n",
    "ACCESS_TOKEN = twitter_access.twitter_dict['ACCESS_TOKEN']\n",
    "ACCESS_TOKEN_SECRET = twitter_access.twitter_dict['ACCESS_TOKEN_SECRET']\n",
    "\n",
    "\n",
    "\n",
    "# 認証情報を設定する。\n",
    "auth = tweepy.OAuthHandler(CONSUMER_KEY, CONSUMER_SECRET)\n",
    "auth.set_access_token(ACCESS_TOKEN, ACCESS_TOKEN_SECRET)\n",
    "\n",
    "\n",
    "class MyStreamListener(tweepy.StreamListener):\n",
    "\n",
    "    def __init__(self, filename='/Users/ono/Desktop/test_tw.pickle'):\n",
    "        self.filename =filename\n",
    "        self.savedTweetsCount = 0\n",
    "        self.count = 0\n",
    "        self.tweets = []\n",
    "        \n",
    "        super().__init__()\n",
    "    \n",
    "    def on_status(self, status):\n",
    "        print('@' + status.author.screen_name, status.text)\n",
    "        self.count += 1\n",
    "        logger.info(\"count : {}/10\".format(self.count))\n",
    "        self.tweets.append(status.text)\n",
    "\n",
    "        #saving every 100 tweets\n",
    "        if self.count % 10 == 0:\n",
    "            self.saveTweets(self.filename,self.tweets)\n",
    "            self.tweets = []\n",
    "\n",
    "        #stopping the streaming by return False when we have received 1000 tweets.\n",
    "        if self.count == 10:\n",
    "            return False\n",
    "        \n",
    "    def saveTweets(self,filename, tweets):\n",
    "        with open(filename, 'wb') as file:\n",
    "            pickle.dump(tweets, file)\n",
    "    \n",
    "    \"\"\"\n",
    "    def on_status(self, status):\n",
    "\n",
    "        #ツイートを受信したときに呼び出されるメソッド。引数はツイートを表すStatusオブジェクト。\n",
    "\n",
    "        print('time',status.created_at)\n",
    "        print('@' + status.author.screen_name, status.text)\n",
    "        \n",
    "    \"\"\"\n",
    "        \n",
    "        \n",
    "\n",
    "\n"
   ]
  },
  {
   "cell_type": "code",
   "execution_count": 5,
   "metadata": {},
   "outputs": [],
   "source": [
    "import os\n",
    "import pytz\n",
    "import pickle\n",
    "import logging\n",
    "import datetime\n",
    "\n",
    "from requests_oauthlib import OAuth1Session\n",
    "import tweepy\n",
    "import twitter_access\n",
    "\n",
    "\n",
    "formatter = '[%(levelname)s] %(asctime)s %(message)s %(name)s'\n",
    "logging.basicConfig(level=logging.INFO, format=formatter)\n",
    "logger = logging.getLogger(__name__)\n",
    "\n",
    "\n",
    "CONSUMER_KEY = twitter_access.twitter_dict['CONSUMER_KEY']\n",
    "CONSUMER_SECRET =twitter_access.twitter_dict['CONSUMER_SECRET']\n",
    "ACCESS_TOKEN = twitter_access.twitter_dict['ACCESS_TOKEN']\n",
    "ACCESS_TOKEN_SECRET = twitter_access.twitter_dict['ACCESS_TOKEN_SECRET']\n",
    "\n",
    "\n",
    "\n",
    "# 認証情報を設定する。\n",
    "auth = tweepy.OAuthHandler(CONSUMER_KEY, CONSUMER_SECRET)\n",
    "auth.set_access_token(ACCESS_TOKEN, ACCESS_TOKEN_SECRET)\n",
    "\n",
    "TWITTER_BASE_DIR = '/Users/hiroshiono/Desktop/scraping_pickle_dir'\n",
    "\n",
    "class MyStreamListener(tweepy.StreamListener):\n",
    "\n",
    "    def __init__(self):\n",
    "        self.tweets = []\n",
    "        self.count = 0\n",
    "        self.time_now = datetime.datetime.now() \n",
    "        #self.time_later = self.time_now + datetime.timedelta(minutes=15)\n",
    "        self.time_threshold=datetime.datetime.strptime(self.get_quarter_time(self.time_now), '%Y-%m-%d %H:%M:%S')\n",
    "        super().__init__()\n",
    "    \n",
    "    def on_status(self, status):\n",
    "        \n",
    "        #logger every 100 tweets\n",
    "        if self.count % 100 == 0:\n",
    "            logger.info(\"count : {}\".format(self.count))\n",
    "\n",
    "        tweets_dict={\n",
    "            'id' : status.id,\n",
    "            'created_at' : status.created_at,\n",
    "            'screen_name' :  status.author.screen_name,\n",
    "            'text' : status.text,\n",
    "            'retweet_count' : status.retweet_count,\n",
    "            'name' : status.author.name,\n",
    "        }\n",
    "\n",
    "        self.tweets.append(tweets_dict)\n",
    "        self.count += 1\n",
    "        \n",
    "        \n",
    "        if datetime.datetime.now() >  self.time_threshold:\n",
    "\n",
    "            #trans utc\n",
    "            time_now_utc = self.time_now - datetime.timedelta(hours=9)\n",
    "            time_threshold_utc = self.time_threshold - datetime.timedelta(hours=9)\n",
    "            filename = time_now_utc.strftime('%Y%m%d%H_%M')+'_'+str(time_threshold_utc.minute)+'.pickle'\n",
    "            filename_path = os.path.join(TWITTER_BASE_DIR, filename)\n",
    "            self.saveTweets(filename_path,self.tweets)\n",
    "            \n",
    "            #初期化\n",
    "            self.__init__()\n",
    "    \n",
    "    \n",
    "    def get_quarter_time(self,_time_now):\n",
    "        minute_quarter = _time_now.minute\n",
    "        quarter_time = ((minute_quarter//15)+1)*15\n",
    "        if not quarter_time == 60:\n",
    "            return _time_now.strftime('%Y-%m-%d %H:{}:00').format(quarter_time)\n",
    "        return _time_now.strftime('%Y-%m-%d %H:00:00').format(quarter_time)+ datetime.timedelta(hours=1)\n",
    "            \n",
    "    def saveTweets(self,filename, tweets):\n",
    "        with open(filename, 'wb') as file:\n",
    "            pickle.dump(tweets, file)\n",
    "            logger.info(\"create_file : {}\".format(filename))\n"
   ]
  },
  {
   "cell_type": "code",
   "execution_count": 13,
   "metadata": {},
   "outputs": [],
   "source": [
    "import datetime\n",
    "\n",
    "aa = datetime.datetime.now()\n",
    "\n",
    "def get_quarter_time(_time_now):\n",
    "        minute_quarter = _time_now.minute\n",
    "        quarter_time = ((minute_quarter//15)+1)*15\n",
    "        if not quarter_time == 60:\n",
    "            return _time_now.strftime('%Y-%m-%d %H:{}:00').format(quarter_time)\n",
    "        else:\n",
    "            _time_now_hour = _time_now + datetime.timedelta(hours=1)\n",
    "            return _time_now_hour.strftime('%Y-%m-%d %H:00:00').format(_time_now_hour)"
   ]
  },
  {
   "cell_type": "code",
   "execution_count": 18,
   "metadata": {},
   "outputs": [
    {
     "data": {
      "text/plain": [
       "'2018-01-28 11:00:00'"
      ]
     },
     "execution_count": 18,
     "metadata": {},
     "output_type": "execute_result"
    }
   ],
   "source": []
  },
  {
   "cell_type": "code",
   "execution_count": 8,
   "metadata": {},
   "outputs": [],
   "source": []
  },
  {
   "cell_type": "code",
   "execution_count": 17,
   "metadata": {},
   "outputs": [
    {
     "data": {
      "text/plain": [
       "datetime.datetime(2018, 1, 28, 10, 45, 28, 180180)"
      ]
     },
     "execution_count": 17,
     "metadata": {},
     "output_type": "execute_result"
    }
   ],
   "source": [
    "bb"
   ]
  },
  {
   "cell_type": "code",
   "execution_count": null,
   "metadata": {},
   "outputs": [],
   "source": []
  },
  {
   "cell_type": "code",
   "execution_count": null,
   "metadata": {},
   "outputs": [],
   "source": []
  },
  {
   "cell_type": "code",
   "execution_count": 6,
   "metadata": {
    "scrolled": false
   },
   "outputs": [
    {
     "name": "stderr",
     "output_type": "stream",
     "text": [
      "[INFO] 2018-01-28 03:03:11,394 count : 0 __main__\n"
     ]
    },
    {
     "name": "stdout",
     "output_type": "stream",
     "text": [
      "2018-01-28 03:03:11.396332\n",
      "2018-01-28 03:15:00\n",
      "2018-01-28 03:03:13.009465\n",
      "2018-01-28 03:15:00\n",
      "2018-01-28 03:03:13.129067\n",
      "2018-01-28 03:15:00\n",
      "2018-01-28 03:03:13.418325\n",
      "2018-01-28 03:15:00\n",
      "2018-01-28 03:03:13.494169\n",
      "2018-01-28 03:15:00\n",
      "2018-01-28 03:03:13.668845\n",
      "2018-01-28 03:15:00\n",
      "2018-01-28 03:03:14.750081\n",
      "2018-01-28 03:15:00\n",
      "2018-01-28 03:03:15.583630\n",
      "2018-01-28 03:15:00\n",
      "2018-01-28 03:03:15.687136\n",
      "2018-01-28 03:15:00\n",
      "2018-01-28 03:03:15.689205\n",
      "2018-01-28 03:15:00\n",
      "2018-01-28 03:03:16.710391\n",
      "2018-01-28 03:15:00\n"
     ]
    },
    {
     "ename": "KeyboardInterrupt",
     "evalue": "",
     "output_type": "error",
     "traceback": [
      "\u001b[0;31m---------------------------------------------------------------------------\u001b[0m",
      "\u001b[0;31mWantReadError\u001b[0m                             Traceback (most recent call last)",
      "\u001b[0;32m~/.pyenv/versions/anaconda3-2.4.0/lib/python3.5/site-packages/urllib3/contrib/pyopenssl.py\u001b[0m in \u001b[0;36mrecv_into\u001b[0;34m(self, *args, **kwargs)\u001b[0m\n\u001b[1;32m    279\u001b[0m         \u001b[0;32mtry\u001b[0m\u001b[0;34m:\u001b[0m\u001b[0;34m\u001b[0m\u001b[0m\n\u001b[0;32m--> 280\u001b[0;31m             \u001b[0;32mreturn\u001b[0m \u001b[0mself\u001b[0m\u001b[0;34m.\u001b[0m\u001b[0mconnection\u001b[0m\u001b[0;34m.\u001b[0m\u001b[0mrecv_into\u001b[0m\u001b[0;34m(\u001b[0m\u001b[0;34m*\u001b[0m\u001b[0margs\u001b[0m\u001b[0;34m,\u001b[0m \u001b[0;34m**\u001b[0m\u001b[0mkwargs\u001b[0m\u001b[0;34m)\u001b[0m\u001b[0;34m\u001b[0m\u001b[0m\n\u001b[0m\u001b[1;32m    281\u001b[0m         \u001b[0;32mexcept\u001b[0m \u001b[0mOpenSSL\u001b[0m\u001b[0;34m.\u001b[0m\u001b[0mSSL\u001b[0m\u001b[0;34m.\u001b[0m\u001b[0mSysCallError\u001b[0m \u001b[0;32mas\u001b[0m \u001b[0me\u001b[0m\u001b[0;34m:\u001b[0m\u001b[0;34m\u001b[0m\u001b[0m\n",
      "\u001b[0;32m~/.pyenv/versions/anaconda3-2.4.0/lib/python3.5/site-packages/OpenSSL/SSL.py\u001b[0m in \u001b[0;36mrecv_into\u001b[0;34m(self, buffer, nbytes, flags)\u001b[0m\n\u001b[1;32m   1714\u001b[0m             \u001b[0mresult\u001b[0m \u001b[0;34m=\u001b[0m \u001b[0m_lib\u001b[0m\u001b[0;34m.\u001b[0m\u001b[0mSSL_read\u001b[0m\u001b[0;34m(\u001b[0m\u001b[0mself\u001b[0m\u001b[0;34m.\u001b[0m\u001b[0m_ssl\u001b[0m\u001b[0;34m,\u001b[0m \u001b[0mbuf\u001b[0m\u001b[0;34m,\u001b[0m \u001b[0mnbytes\u001b[0m\u001b[0;34m)\u001b[0m\u001b[0;34m\u001b[0m\u001b[0m\n\u001b[0;32m-> 1715\u001b[0;31m         \u001b[0mself\u001b[0m\u001b[0;34m.\u001b[0m\u001b[0m_raise_ssl_error\u001b[0m\u001b[0;34m(\u001b[0m\u001b[0mself\u001b[0m\u001b[0;34m.\u001b[0m\u001b[0m_ssl\u001b[0m\u001b[0;34m,\u001b[0m \u001b[0mresult\u001b[0m\u001b[0;34m)\u001b[0m\u001b[0;34m\u001b[0m\u001b[0m\n\u001b[0m\u001b[1;32m   1716\u001b[0m \u001b[0;34m\u001b[0m\u001b[0m\n",
      "\u001b[0;32m~/.pyenv/versions/anaconda3-2.4.0/lib/python3.5/site-packages/OpenSSL/SSL.py\u001b[0m in \u001b[0;36m_raise_ssl_error\u001b[0;34m(self, ssl, result)\u001b[0m\n\u001b[1;32m   1520\u001b[0m         \u001b[0;32mif\u001b[0m \u001b[0merror\u001b[0m \u001b[0;34m==\u001b[0m \u001b[0m_lib\u001b[0m\u001b[0;34m.\u001b[0m\u001b[0mSSL_ERROR_WANT_READ\u001b[0m\u001b[0;34m:\u001b[0m\u001b[0;34m\u001b[0m\u001b[0m\n\u001b[0;32m-> 1521\u001b[0;31m             \u001b[0;32mraise\u001b[0m \u001b[0mWantReadError\u001b[0m\u001b[0;34m(\u001b[0m\u001b[0;34m)\u001b[0m\u001b[0;34m\u001b[0m\u001b[0m\n\u001b[0m\u001b[1;32m   1522\u001b[0m         \u001b[0;32melif\u001b[0m \u001b[0merror\u001b[0m \u001b[0;34m==\u001b[0m \u001b[0m_lib\u001b[0m\u001b[0;34m.\u001b[0m\u001b[0mSSL_ERROR_WANT_WRITE\u001b[0m\u001b[0;34m:\u001b[0m\u001b[0;34m\u001b[0m\u001b[0m\n",
      "\u001b[0;31mWantReadError\u001b[0m: ",
      "\nDuring handling of the above exception, another exception occurred:\n",
      "\u001b[0;31mKeyboardInterrupt\u001b[0m                         Traceback (most recent call last)",
      "\u001b[0;32m<ipython-input-6-71cd94dd74f3>\u001b[0m in \u001b[0;36m<module>\u001b[0;34m()\u001b[0m\n\u001b[1;32m      2\u001b[0m \u001b[0;31m# 認証情報とStreamListenerを指定してStreamオブジェクトを取得する。\u001b[0m\u001b[0;34m\u001b[0m\u001b[0;34m\u001b[0m\u001b[0m\n\u001b[1;32m      3\u001b[0m \u001b[0mstream\u001b[0m \u001b[0;34m=\u001b[0m \u001b[0mtweepy\u001b[0m\u001b[0;34m.\u001b[0m\u001b[0mStream\u001b[0m\u001b[0;34m(\u001b[0m\u001b[0mauth\u001b[0m\u001b[0;34m,\u001b[0m \u001b[0mMyStreamListener\u001b[0m\u001b[0;34m(\u001b[0m\u001b[0;34m)\u001b[0m\u001b[0;34m)\u001b[0m\u001b[0;34m\u001b[0m\u001b[0m\n\u001b[0;32m----> 4\u001b[0;31m \u001b[0mstream\u001b[0m\u001b[0;34m.\u001b[0m\u001b[0mfilter\u001b[0m\u001b[0;34m(\u001b[0m\u001b[0mlanguages\u001b[0m\u001b[0;34m=\u001b[0m\u001b[0;34m[\u001b[0m\u001b[0;34m'en'\u001b[0m\u001b[0;34m]\u001b[0m\u001b[0;34m,\u001b[0m\u001b[0mtrack\u001b[0m\u001b[0;34m=\u001b[0m\u001b[0;34m[\u001b[0m\u001b[0;34m'BITCOIN'\u001b[0m\u001b[0;34m,\u001b[0m\u001b[0;34m'Bitcoin'\u001b[0m\u001b[0;34m,\u001b[0m\u001b[0;34m'bitcoin'\u001b[0m\u001b[0;34m,\u001b[0m\u001b[0;34m'BTC/USD'\u001b[0m\u001b[0;34m]\u001b[0m\u001b[0;34m)\u001b[0m\u001b[0;34m\u001b[0m\u001b[0m\n\u001b[0m",
      "\u001b[0;32m~/.pyenv/versions/anaconda3-2.4.0/lib/python3.5/site-packages/tweepy/streaming.py\u001b[0m in \u001b[0;36mfilter\u001b[0;34m(self, follow, track, async, locations, stall_warnings, languages, encoding, filter_level)\u001b[0m\n\u001b[1;32m    443\u001b[0m         \u001b[0mself\u001b[0m\u001b[0;34m.\u001b[0m\u001b[0msession\u001b[0m\u001b[0;34m.\u001b[0m\u001b[0mparams\u001b[0m \u001b[0;34m=\u001b[0m \u001b[0;34m{\u001b[0m\u001b[0;34m'delimited'\u001b[0m\u001b[0;34m:\u001b[0m \u001b[0;34m'length'\u001b[0m\u001b[0;34m}\u001b[0m\u001b[0;34m\u001b[0m\u001b[0m\n\u001b[1;32m    444\u001b[0m         \u001b[0mself\u001b[0m\u001b[0;34m.\u001b[0m\u001b[0mhost\u001b[0m \u001b[0;34m=\u001b[0m \u001b[0;34m'stream.twitter.com'\u001b[0m\u001b[0;34m\u001b[0m\u001b[0m\n\u001b[0;32m--> 445\u001b[0;31m         \u001b[0mself\u001b[0m\u001b[0;34m.\u001b[0m\u001b[0m_start\u001b[0m\u001b[0;34m(\u001b[0m\u001b[0masync\u001b[0m\u001b[0;34m)\u001b[0m\u001b[0;34m\u001b[0m\u001b[0m\n\u001b[0m\u001b[1;32m    446\u001b[0m \u001b[0;34m\u001b[0m\u001b[0m\n\u001b[1;32m    447\u001b[0m     def sitestream(self, follow, stall_warnings=False,\n",
      "\u001b[0;32m~/.pyenv/versions/anaconda3-2.4.0/lib/python3.5/site-packages/tweepy/streaming.py\u001b[0m in \u001b[0;36m_start\u001b[0;34m(self, async)\u001b[0m\n\u001b[1;32m    359\u001b[0m             \u001b[0mself\u001b[0m\u001b[0;34m.\u001b[0m\u001b[0m_thread\u001b[0m\u001b[0;34m.\u001b[0m\u001b[0mstart\u001b[0m\u001b[0;34m(\u001b[0m\u001b[0;34m)\u001b[0m\u001b[0;34m\u001b[0m\u001b[0m\n\u001b[1;32m    360\u001b[0m         \u001b[0;32melse\u001b[0m\u001b[0;34m:\u001b[0m\u001b[0;34m\u001b[0m\u001b[0m\n\u001b[0;32m--> 361\u001b[0;31m             \u001b[0mself\u001b[0m\u001b[0;34m.\u001b[0m\u001b[0m_run\u001b[0m\u001b[0;34m(\u001b[0m\u001b[0;34m)\u001b[0m\u001b[0;34m\u001b[0m\u001b[0m\n\u001b[0m\u001b[1;32m    362\u001b[0m \u001b[0;34m\u001b[0m\u001b[0m\n\u001b[1;32m    363\u001b[0m     \u001b[0;32mdef\u001b[0m \u001b[0mon_closed\u001b[0m\u001b[0;34m(\u001b[0m\u001b[0mself\u001b[0m\u001b[0;34m,\u001b[0m \u001b[0mresp\u001b[0m\u001b[0;34m)\u001b[0m\u001b[0;34m:\u001b[0m\u001b[0;34m\u001b[0m\u001b[0m\n",
      "\u001b[0;32m~/.pyenv/versions/anaconda3-2.4.0/lib/python3.5/site-packages/tweepy/streaming.py\u001b[0m in \u001b[0;36m_run\u001b[0;34m(self)\u001b[0m\n\u001b[1;32m    261\u001b[0m                     \u001b[0mself\u001b[0m\u001b[0;34m.\u001b[0m\u001b[0msnooze_time\u001b[0m \u001b[0;34m=\u001b[0m \u001b[0mself\u001b[0m\u001b[0;34m.\u001b[0m\u001b[0msnooze_time_step\u001b[0m\u001b[0;34m\u001b[0m\u001b[0m\n\u001b[1;32m    262\u001b[0m                     \u001b[0mself\u001b[0m\u001b[0;34m.\u001b[0m\u001b[0mlistener\u001b[0m\u001b[0;34m.\u001b[0m\u001b[0mon_connect\u001b[0m\u001b[0;34m(\u001b[0m\u001b[0;34m)\u001b[0m\u001b[0;34m\u001b[0m\u001b[0m\n\u001b[0;32m--> 263\u001b[0;31m                     \u001b[0mself\u001b[0m\u001b[0;34m.\u001b[0m\u001b[0m_read_loop\u001b[0m\u001b[0;34m(\u001b[0m\u001b[0mresp\u001b[0m\u001b[0;34m)\u001b[0m\u001b[0;34m\u001b[0m\u001b[0m\n\u001b[0m\u001b[1;32m    264\u001b[0m             \u001b[0;32mexcept\u001b[0m \u001b[0;34m(\u001b[0m\u001b[0mTimeout\u001b[0m\u001b[0;34m,\u001b[0m \u001b[0mssl\u001b[0m\u001b[0;34m.\u001b[0m\u001b[0mSSLError\u001b[0m\u001b[0;34m)\u001b[0m \u001b[0;32mas\u001b[0m \u001b[0mexc\u001b[0m\u001b[0;34m:\u001b[0m\u001b[0;34m\u001b[0m\u001b[0m\n\u001b[1;32m    265\u001b[0m                 \u001b[0;31m# This is still necessary, as a SSLError can actually be\u001b[0m\u001b[0;34m\u001b[0m\u001b[0;34m\u001b[0m\u001b[0m\n",
      "\u001b[0;32m~/.pyenv/versions/anaconda3-2.4.0/lib/python3.5/site-packages/tweepy/streaming.py\u001b[0m in \u001b[0;36m_read_loop\u001b[0;34m(self, resp)\u001b[0m\n\u001b[1;32m    311\u001b[0m             \u001b[0mlength\u001b[0m \u001b[0;34m=\u001b[0m \u001b[0;36m0\u001b[0m\u001b[0;34m\u001b[0m\u001b[0m\n\u001b[1;32m    312\u001b[0m             \u001b[0;32mwhile\u001b[0m \u001b[0;32mnot\u001b[0m \u001b[0mresp\u001b[0m\u001b[0;34m.\u001b[0m\u001b[0mraw\u001b[0m\u001b[0;34m.\u001b[0m\u001b[0mclosed\u001b[0m\u001b[0;34m:\u001b[0m\u001b[0;34m\u001b[0m\u001b[0m\n\u001b[0;32m--> 313\u001b[0;31m                 \u001b[0mline\u001b[0m \u001b[0;34m=\u001b[0m \u001b[0mbuf\u001b[0m\u001b[0;34m.\u001b[0m\u001b[0mread_line\u001b[0m\u001b[0;34m(\u001b[0m\u001b[0;34m)\u001b[0m\u001b[0;34m.\u001b[0m\u001b[0mstrip\u001b[0m\u001b[0;34m(\u001b[0m\u001b[0;34m)\u001b[0m\u001b[0;34m\u001b[0m\u001b[0m\n\u001b[0m\u001b[1;32m    314\u001b[0m                 \u001b[0;32mif\u001b[0m \u001b[0;32mnot\u001b[0m \u001b[0mline\u001b[0m\u001b[0;34m:\u001b[0m\u001b[0;34m\u001b[0m\u001b[0m\n\u001b[1;32m    315\u001b[0m                     \u001b[0mself\u001b[0m\u001b[0;34m.\u001b[0m\u001b[0mlistener\u001b[0m\u001b[0;34m.\u001b[0m\u001b[0mkeep_alive\u001b[0m\u001b[0;34m(\u001b[0m\u001b[0;34m)\u001b[0m  \u001b[0;31m# keep-alive new lines are expected\u001b[0m\u001b[0;34m\u001b[0m\u001b[0m\n",
      "\u001b[0;32m~/.pyenv/versions/anaconda3-2.4.0/lib/python3.5/site-packages/tweepy/streaming.py\u001b[0m in \u001b[0;36mread_line\u001b[0;34m(self, sep)\u001b[0m\n\u001b[1;32m    177\u001b[0m             \u001b[0;32melse\u001b[0m\u001b[0;34m:\u001b[0m\u001b[0;34m\u001b[0m\u001b[0m\n\u001b[1;32m    178\u001b[0m                 \u001b[0mstart\u001b[0m \u001b[0;34m=\u001b[0m \u001b[0mlen\u001b[0m\u001b[0;34m(\u001b[0m\u001b[0mself\u001b[0m\u001b[0;34m.\u001b[0m\u001b[0m_buffer\u001b[0m\u001b[0;34m)\u001b[0m\u001b[0;34m\u001b[0m\u001b[0m\n\u001b[0;32m--> 179\u001b[0;31m             \u001b[0mself\u001b[0m\u001b[0;34m.\u001b[0m\u001b[0m_buffer\u001b[0m \u001b[0;34m+=\u001b[0m \u001b[0mself\u001b[0m\u001b[0;34m.\u001b[0m\u001b[0m_stream\u001b[0m\u001b[0;34m.\u001b[0m\u001b[0mread\u001b[0m\u001b[0;34m(\u001b[0m\u001b[0mself\u001b[0m\u001b[0;34m.\u001b[0m\u001b[0m_chunk_size\u001b[0m\u001b[0;34m)\u001b[0m\u001b[0;34m\u001b[0m\u001b[0m\n\u001b[0m\u001b[1;32m    180\u001b[0m \u001b[0;34m\u001b[0m\u001b[0m\n\u001b[1;32m    181\u001b[0m     \u001b[0;32mdef\u001b[0m \u001b[0m_pop\u001b[0m\u001b[0;34m(\u001b[0m\u001b[0mself\u001b[0m\u001b[0;34m,\u001b[0m \u001b[0mlength\u001b[0m\u001b[0;34m)\u001b[0m\u001b[0;34m:\u001b[0m\u001b[0;34m\u001b[0m\u001b[0m\n",
      "\u001b[0;32m~/.pyenv/versions/anaconda3-2.4.0/lib/python3.5/site-packages/urllib3/response.py\u001b[0m in \u001b[0;36mread\u001b[0;34m(self, amt, decode_content, cache_content)\u001b[0m\n\u001b[1;32m    382\u001b[0m             \u001b[0;32melse\u001b[0m\u001b[0;34m:\u001b[0m\u001b[0;34m\u001b[0m\u001b[0m\n\u001b[1;32m    383\u001b[0m                 \u001b[0mcache_content\u001b[0m \u001b[0;34m=\u001b[0m \u001b[0;32mFalse\u001b[0m\u001b[0;34m\u001b[0m\u001b[0m\n\u001b[0;32m--> 384\u001b[0;31m                 \u001b[0mdata\u001b[0m \u001b[0;34m=\u001b[0m \u001b[0mself\u001b[0m\u001b[0;34m.\u001b[0m\u001b[0m_fp\u001b[0m\u001b[0;34m.\u001b[0m\u001b[0mread\u001b[0m\u001b[0;34m(\u001b[0m\u001b[0mamt\u001b[0m\u001b[0;34m)\u001b[0m\u001b[0;34m\u001b[0m\u001b[0m\n\u001b[0m\u001b[1;32m    385\u001b[0m                 \u001b[0;32mif\u001b[0m \u001b[0mamt\u001b[0m \u001b[0;34m!=\u001b[0m \u001b[0;36m0\u001b[0m \u001b[0;32mand\u001b[0m \u001b[0;32mnot\u001b[0m \u001b[0mdata\u001b[0m\u001b[0;34m:\u001b[0m  \u001b[0;31m# Platform-specific: Buggy versions of Python.\u001b[0m\u001b[0;34m\u001b[0m\u001b[0m\n\u001b[1;32m    386\u001b[0m                     \u001b[0;31m# Close the connection when no data is returned\u001b[0m\u001b[0;34m\u001b[0m\u001b[0;34m\u001b[0m\u001b[0m\n",
      "\u001b[0;32m~/.pyenv/versions/anaconda3-2.4.0/lib/python3.5/http/client.py\u001b[0m in \u001b[0;36mread\u001b[0;34m(self, amt)\u001b[0m\n\u001b[1;32m    446\u001b[0m             \u001b[0;31m# Amount is given, implement using readinto\u001b[0m\u001b[0;34m\u001b[0m\u001b[0;34m\u001b[0m\u001b[0m\n\u001b[1;32m    447\u001b[0m             \u001b[0mb\u001b[0m \u001b[0;34m=\u001b[0m \u001b[0mbytearray\u001b[0m\u001b[0;34m(\u001b[0m\u001b[0mamt\u001b[0m\u001b[0;34m)\u001b[0m\u001b[0;34m\u001b[0m\u001b[0m\n\u001b[0;32m--> 448\u001b[0;31m             \u001b[0mn\u001b[0m \u001b[0;34m=\u001b[0m \u001b[0mself\u001b[0m\u001b[0;34m.\u001b[0m\u001b[0mreadinto\u001b[0m\u001b[0;34m(\u001b[0m\u001b[0mb\u001b[0m\u001b[0;34m)\u001b[0m\u001b[0;34m\u001b[0m\u001b[0m\n\u001b[0m\u001b[1;32m    449\u001b[0m             \u001b[0;32mreturn\u001b[0m \u001b[0mmemoryview\u001b[0m\u001b[0;34m(\u001b[0m\u001b[0mb\u001b[0m\u001b[0;34m)\u001b[0m\u001b[0;34m[\u001b[0m\u001b[0;34m:\u001b[0m\u001b[0mn\u001b[0m\u001b[0;34m]\u001b[0m\u001b[0;34m.\u001b[0m\u001b[0mtobytes\u001b[0m\u001b[0;34m(\u001b[0m\u001b[0;34m)\u001b[0m\u001b[0;34m\u001b[0m\u001b[0m\n\u001b[1;32m    450\u001b[0m         \u001b[0;32melse\u001b[0m\u001b[0;34m:\u001b[0m\u001b[0;34m\u001b[0m\u001b[0m\n",
      "\u001b[0;32m~/.pyenv/versions/anaconda3-2.4.0/lib/python3.5/http/client.py\u001b[0m in \u001b[0;36mreadinto\u001b[0;34m(self, b)\u001b[0m\n\u001b[1;32m    476\u001b[0m \u001b[0;34m\u001b[0m\u001b[0m\n\u001b[1;32m    477\u001b[0m         \u001b[0;32mif\u001b[0m \u001b[0mself\u001b[0m\u001b[0;34m.\u001b[0m\u001b[0mchunked\u001b[0m\u001b[0;34m:\u001b[0m\u001b[0;34m\u001b[0m\u001b[0m\n\u001b[0;32m--> 478\u001b[0;31m             \u001b[0;32mreturn\u001b[0m \u001b[0mself\u001b[0m\u001b[0;34m.\u001b[0m\u001b[0m_readinto_chunked\u001b[0m\u001b[0;34m(\u001b[0m\u001b[0mb\u001b[0m\u001b[0;34m)\u001b[0m\u001b[0;34m\u001b[0m\u001b[0m\n\u001b[0m\u001b[1;32m    479\u001b[0m \u001b[0;34m\u001b[0m\u001b[0m\n\u001b[1;32m    480\u001b[0m         \u001b[0;32mif\u001b[0m \u001b[0mself\u001b[0m\u001b[0;34m.\u001b[0m\u001b[0mlength\u001b[0m \u001b[0;32mis\u001b[0m \u001b[0;32mnot\u001b[0m \u001b[0;32mNone\u001b[0m\u001b[0;34m:\u001b[0m\u001b[0;34m\u001b[0m\u001b[0m\n",
      "\u001b[0;32m~/.pyenv/versions/anaconda3-2.4.0/lib/python3.5/http/client.py\u001b[0m in \u001b[0;36m_readinto_chunked\u001b[0;34m(self, b)\u001b[0m\n\u001b[1;32m    571\u001b[0m         \u001b[0;32mtry\u001b[0m\u001b[0;34m:\u001b[0m\u001b[0;34m\u001b[0m\u001b[0m\n\u001b[1;32m    572\u001b[0m             \u001b[0;32mwhile\u001b[0m \u001b[0;32mTrue\u001b[0m\u001b[0;34m:\u001b[0m\u001b[0;34m\u001b[0m\u001b[0m\n\u001b[0;32m--> 573\u001b[0;31m                 \u001b[0mchunk_left\u001b[0m \u001b[0;34m=\u001b[0m \u001b[0mself\u001b[0m\u001b[0;34m.\u001b[0m\u001b[0m_get_chunk_left\u001b[0m\u001b[0;34m(\u001b[0m\u001b[0;34m)\u001b[0m\u001b[0;34m\u001b[0m\u001b[0m\n\u001b[0m\u001b[1;32m    574\u001b[0m                 \u001b[0;32mif\u001b[0m \u001b[0mchunk_left\u001b[0m \u001b[0;32mis\u001b[0m \u001b[0;32mNone\u001b[0m\u001b[0;34m:\u001b[0m\u001b[0;34m\u001b[0m\u001b[0m\n\u001b[1;32m    575\u001b[0m                     \u001b[0;32mreturn\u001b[0m \u001b[0mtotal_bytes\u001b[0m\u001b[0;34m\u001b[0m\u001b[0m\n",
      "\u001b[0;32m~/.pyenv/versions/anaconda3-2.4.0/lib/python3.5/http/client.py\u001b[0m in \u001b[0;36m_get_chunk_left\u001b[0;34m(self)\u001b[0m\n\u001b[1;32m    539\u001b[0m                 \u001b[0mself\u001b[0m\u001b[0;34m.\u001b[0m\u001b[0m_safe_read\u001b[0m\u001b[0;34m(\u001b[0m\u001b[0;36m2\u001b[0m\u001b[0;34m)\u001b[0m  \u001b[0;31m# toss the CRLF at the end of the chunk\u001b[0m\u001b[0;34m\u001b[0m\u001b[0m\n\u001b[1;32m    540\u001b[0m             \u001b[0;32mtry\u001b[0m\u001b[0;34m:\u001b[0m\u001b[0;34m\u001b[0m\u001b[0m\n\u001b[0;32m--> 541\u001b[0;31m                 \u001b[0mchunk_left\u001b[0m \u001b[0;34m=\u001b[0m \u001b[0mself\u001b[0m\u001b[0;34m.\u001b[0m\u001b[0m_read_next_chunk_size\u001b[0m\u001b[0;34m(\u001b[0m\u001b[0;34m)\u001b[0m\u001b[0;34m\u001b[0m\u001b[0m\n\u001b[0m\u001b[1;32m    542\u001b[0m             \u001b[0;32mexcept\u001b[0m \u001b[0mValueError\u001b[0m\u001b[0;34m:\u001b[0m\u001b[0;34m\u001b[0m\u001b[0m\n\u001b[1;32m    543\u001b[0m                 \u001b[0;32mraise\u001b[0m \u001b[0mIncompleteRead\u001b[0m\u001b[0;34m(\u001b[0m\u001b[0;34mb''\u001b[0m\u001b[0;34m)\u001b[0m\u001b[0;34m\u001b[0m\u001b[0m\n",
      "\u001b[0;32m~/.pyenv/versions/anaconda3-2.4.0/lib/python3.5/http/client.py\u001b[0m in \u001b[0;36m_read_next_chunk_size\u001b[0;34m(self)\u001b[0m\n\u001b[1;32m    499\u001b[0m     \u001b[0;32mdef\u001b[0m \u001b[0m_read_next_chunk_size\u001b[0m\u001b[0;34m(\u001b[0m\u001b[0mself\u001b[0m\u001b[0;34m)\u001b[0m\u001b[0;34m:\u001b[0m\u001b[0;34m\u001b[0m\u001b[0m\n\u001b[1;32m    500\u001b[0m         \u001b[0;31m# Read the next chunk size from the file\u001b[0m\u001b[0;34m\u001b[0m\u001b[0;34m\u001b[0m\u001b[0m\n\u001b[0;32m--> 501\u001b[0;31m         \u001b[0mline\u001b[0m \u001b[0;34m=\u001b[0m \u001b[0mself\u001b[0m\u001b[0;34m.\u001b[0m\u001b[0mfp\u001b[0m\u001b[0;34m.\u001b[0m\u001b[0mreadline\u001b[0m\u001b[0;34m(\u001b[0m\u001b[0m_MAXLINE\u001b[0m \u001b[0;34m+\u001b[0m \u001b[0;36m1\u001b[0m\u001b[0;34m)\u001b[0m\u001b[0;34m\u001b[0m\u001b[0m\n\u001b[0m\u001b[1;32m    502\u001b[0m         \u001b[0;32mif\u001b[0m \u001b[0mlen\u001b[0m\u001b[0;34m(\u001b[0m\u001b[0mline\u001b[0m\u001b[0;34m)\u001b[0m \u001b[0;34m>\u001b[0m \u001b[0m_MAXLINE\u001b[0m\u001b[0;34m:\u001b[0m\u001b[0;34m\u001b[0m\u001b[0m\n\u001b[1;32m    503\u001b[0m             \u001b[0;32mraise\u001b[0m \u001b[0mLineTooLong\u001b[0m\u001b[0;34m(\u001b[0m\u001b[0;34m\"chunk size\"\u001b[0m\u001b[0;34m)\u001b[0m\u001b[0;34m\u001b[0m\u001b[0m\n",
      "\u001b[0;32m~/.pyenv/versions/anaconda3-2.4.0/lib/python3.5/socket.py\u001b[0m in \u001b[0;36mreadinto\u001b[0;34m(self, b)\u001b[0m\n\u001b[1;32m    574\u001b[0m         \u001b[0;32mwhile\u001b[0m \u001b[0;32mTrue\u001b[0m\u001b[0;34m:\u001b[0m\u001b[0;34m\u001b[0m\u001b[0m\n\u001b[1;32m    575\u001b[0m             \u001b[0;32mtry\u001b[0m\u001b[0;34m:\u001b[0m\u001b[0;34m\u001b[0m\u001b[0m\n\u001b[0;32m--> 576\u001b[0;31m                 \u001b[0;32mreturn\u001b[0m \u001b[0mself\u001b[0m\u001b[0;34m.\u001b[0m\u001b[0m_sock\u001b[0m\u001b[0;34m.\u001b[0m\u001b[0mrecv_into\u001b[0m\u001b[0;34m(\u001b[0m\u001b[0mb\u001b[0m\u001b[0;34m)\u001b[0m\u001b[0;34m\u001b[0m\u001b[0m\n\u001b[0m\u001b[1;32m    577\u001b[0m             \u001b[0;32mexcept\u001b[0m \u001b[0mtimeout\u001b[0m\u001b[0;34m:\u001b[0m\u001b[0;34m\u001b[0m\u001b[0m\n\u001b[1;32m    578\u001b[0m                 \u001b[0mself\u001b[0m\u001b[0;34m.\u001b[0m\u001b[0m_timeout_occurred\u001b[0m \u001b[0;34m=\u001b[0m \u001b[0;32mTrue\u001b[0m\u001b[0;34m\u001b[0m\u001b[0m\n",
      "\u001b[0;32m~/.pyenv/versions/anaconda3-2.4.0/lib/python3.5/site-packages/urllib3/contrib/pyopenssl.py\u001b[0m in \u001b[0;36mrecv_into\u001b[0;34m(self, *args, **kwargs)\u001b[0m\n\u001b[1;32m    290\u001b[0m                 \u001b[0;32mraise\u001b[0m\u001b[0;34m\u001b[0m\u001b[0m\n\u001b[1;32m    291\u001b[0m         \u001b[0;32mexcept\u001b[0m \u001b[0mOpenSSL\u001b[0m\u001b[0;34m.\u001b[0m\u001b[0mSSL\u001b[0m\u001b[0;34m.\u001b[0m\u001b[0mWantReadError\u001b[0m\u001b[0;34m:\u001b[0m\u001b[0;34m\u001b[0m\u001b[0m\n\u001b[0;32m--> 292\u001b[0;31m             \u001b[0mrd\u001b[0m \u001b[0;34m=\u001b[0m \u001b[0mutil\u001b[0m\u001b[0;34m.\u001b[0m\u001b[0mwait_for_read\u001b[0m\u001b[0;34m(\u001b[0m\u001b[0mself\u001b[0m\u001b[0;34m.\u001b[0m\u001b[0msocket\u001b[0m\u001b[0;34m,\u001b[0m \u001b[0mself\u001b[0m\u001b[0;34m.\u001b[0m\u001b[0msocket\u001b[0m\u001b[0;34m.\u001b[0m\u001b[0mgettimeout\u001b[0m\u001b[0;34m(\u001b[0m\u001b[0;34m)\u001b[0m\u001b[0;34m)\u001b[0m\u001b[0;34m\u001b[0m\u001b[0m\n\u001b[0m\u001b[1;32m    293\u001b[0m             \u001b[0;32mif\u001b[0m \u001b[0;32mnot\u001b[0m \u001b[0mrd\u001b[0m\u001b[0;34m:\u001b[0m\u001b[0;34m\u001b[0m\u001b[0m\n\u001b[1;32m    294\u001b[0m                 \u001b[0;32mraise\u001b[0m \u001b[0mtimeout\u001b[0m\u001b[0;34m(\u001b[0m\u001b[0;34m'The read operation timed out'\u001b[0m\u001b[0;34m)\u001b[0m\u001b[0;34m\u001b[0m\u001b[0m\n",
      "\u001b[0;32m~/.pyenv/versions/anaconda3-2.4.0/lib/python3.5/site-packages/urllib3/util/wait.py\u001b[0m in \u001b[0;36mwait_for_read\u001b[0;34m(socks, timeout)\u001b[0m\n\u001b[1;32m     31\u001b[0m     \u001b[0;32mor\u001b[0m \u001b[0moptionally\u001b[0m \u001b[0ma\u001b[0m \u001b[0msingle\u001b[0m \u001b[0msocket\u001b[0m \u001b[0;32mif\u001b[0m \u001b[0mpassed\u001b[0m \u001b[0;32min\u001b[0m\u001b[0;34m.\u001b[0m \u001b[0mReturns\u001b[0m \u001b[0ma\u001b[0m \u001b[0mlist\u001b[0m \u001b[0mof\u001b[0m\u001b[0;34m\u001b[0m\u001b[0m\n\u001b[1;32m     32\u001b[0m     sockets that can be read from immediately. \"\"\"\n\u001b[0;32m---> 33\u001b[0;31m     \u001b[0;32mreturn\u001b[0m \u001b[0m_wait_for_io_events\u001b[0m\u001b[0;34m(\u001b[0m\u001b[0msocks\u001b[0m\u001b[0;34m,\u001b[0m \u001b[0mEVENT_READ\u001b[0m\u001b[0;34m,\u001b[0m \u001b[0mtimeout\u001b[0m\u001b[0;34m)\u001b[0m\u001b[0;34m\u001b[0m\u001b[0m\n\u001b[0m\u001b[1;32m     34\u001b[0m \u001b[0;34m\u001b[0m\u001b[0m\n\u001b[1;32m     35\u001b[0m \u001b[0;34m\u001b[0m\u001b[0m\n",
      "\u001b[0;32m~/.pyenv/versions/anaconda3-2.4.0/lib/python3.5/site-packages/urllib3/util/wait.py\u001b[0m in \u001b[0;36m_wait_for_io_events\u001b[0;34m(socks, events, timeout)\u001b[0m\n\u001b[1;32m     24\u001b[0m             \u001b[0mselector\u001b[0m\u001b[0;34m.\u001b[0m\u001b[0mregister\u001b[0m\u001b[0;34m(\u001b[0m\u001b[0msock\u001b[0m\u001b[0;34m,\u001b[0m \u001b[0mevents\u001b[0m\u001b[0;34m)\u001b[0m\u001b[0;34m\u001b[0m\u001b[0m\n\u001b[1;32m     25\u001b[0m         return [key[0].fileobj for key in\n\u001b[0;32m---> 26\u001b[0;31m                 selector.select(timeout) if key[1] & events]\n\u001b[0m\u001b[1;32m     27\u001b[0m \u001b[0;34m\u001b[0m\u001b[0m\n\u001b[1;32m     28\u001b[0m \u001b[0;34m\u001b[0m\u001b[0m\n",
      "\u001b[0;32m~/.pyenv/versions/anaconda3-2.4.0/lib/python3.5/site-packages/urllib3/util/selectors.py\u001b[0m in \u001b[0;36mselect\u001b[0;34m(self, timeout)\u001b[0m\n\u001b[1;32m    511\u001b[0m \u001b[0;34m\u001b[0m\u001b[0m\n\u001b[1;32m    512\u001b[0m             kevent_list = _syscall_wrapper(self._kqueue.control, True,\n\u001b[0;32m--> 513\u001b[0;31m                                            None, max_events, timeout)\n\u001b[0m\u001b[1;32m    514\u001b[0m \u001b[0;34m\u001b[0m\u001b[0m\n\u001b[1;32m    515\u001b[0m             \u001b[0;32mfor\u001b[0m \u001b[0mkevent\u001b[0m \u001b[0;32min\u001b[0m \u001b[0mkevent_list\u001b[0m\u001b[0;34m:\u001b[0m\u001b[0;34m\u001b[0m\u001b[0m\n",
      "\u001b[0;32m~/.pyenv/versions/anaconda3-2.4.0/lib/python3.5/site-packages/urllib3/util/selectors.py\u001b[0m in \u001b[0;36m_syscall_wrapper\u001b[0;34m(func, _, *args, **kwargs)\u001b[0m\n\u001b[1;32m     62\u001b[0m         and recalculate their timeouts. \"\"\"\n\u001b[1;32m     63\u001b[0m         \u001b[0;32mtry\u001b[0m\u001b[0;34m:\u001b[0m\u001b[0;34m\u001b[0m\u001b[0m\n\u001b[0;32m---> 64\u001b[0;31m             \u001b[0;32mreturn\u001b[0m \u001b[0mfunc\u001b[0m\u001b[0;34m(\u001b[0m\u001b[0;34m*\u001b[0m\u001b[0margs\u001b[0m\u001b[0;34m,\u001b[0m \u001b[0;34m**\u001b[0m\u001b[0mkwargs\u001b[0m\u001b[0;34m)\u001b[0m\u001b[0;34m\u001b[0m\u001b[0m\n\u001b[0m\u001b[1;32m     65\u001b[0m         \u001b[0;32mexcept\u001b[0m \u001b[0;34m(\u001b[0m\u001b[0mOSError\u001b[0m\u001b[0;34m,\u001b[0m \u001b[0mIOError\u001b[0m\u001b[0;34m,\u001b[0m \u001b[0mselect\u001b[0m\u001b[0;34m.\u001b[0m\u001b[0merror\u001b[0m\u001b[0;34m)\u001b[0m \u001b[0;32mas\u001b[0m \u001b[0me\u001b[0m\u001b[0;34m:\u001b[0m\u001b[0;34m\u001b[0m\u001b[0m\n\u001b[1;32m     66\u001b[0m             \u001b[0merrcode\u001b[0m \u001b[0;34m=\u001b[0m \u001b[0;32mNone\u001b[0m\u001b[0;34m\u001b[0m\u001b[0m\n",
      "\u001b[0;31mKeyboardInterrupt\u001b[0m: "
     ]
    }
   ],
   "source": [
    "\n",
    "# 認証情報とStreamListenerを指定してStreamオブジェクトを取得する。\n",
    "stream = tweepy.Stream(auth, MyStreamListener())\n",
    "stream.filter(languages=['en'],track=['BITCOIN','Bitcoin','bitcoin','BTC/USD'])"
   ]
  },
  {
   "cell_type": "code",
   "execution_count": 9,
   "metadata": {},
   "outputs": [],
   "source": [
    "import datetime\n",
    "import pytz\n",
    "\n",
    "aa=datetime.datetime.now() "
   ]
  },
  {
   "cell_type": "code",
   "execution_count": 10,
   "metadata": {},
   "outputs": [],
   "source": [
    "bb=aa + datetime.timedelta(minutes=15)"
   ]
  },
  {
   "cell_type": "code",
   "execution_count": 11,
   "metadata": {},
   "outputs": [
    {
     "data": {
      "text/plain": [
       "20"
      ]
     },
     "execution_count": 11,
     "metadata": {},
     "output_type": "execute_result"
    }
   ],
   "source": [
    "aa.minute"
   ]
  },
  {
   "cell_type": "code",
   "execution_count": 7,
   "metadata": {},
   "outputs": [],
   "source": [
    "time_now_utc = pytz.timezone('UTC').localize(aa)"
   ]
  },
  {
   "cell_type": "code",
   "execution_count": 15,
   "metadata": {},
   "outputs": [
    {
     "ename": "NameError",
     "evalue": "name 'timezone' is not defined",
     "output_type": "error",
     "traceback": [
      "\u001b[0;31m---------------------------------------------------------------------------\u001b[0m",
      "\u001b[0;31mNameError\u001b[0m                                 Traceback (most recent call last)",
      "\u001b[0;32m<ipython-input-15-1eeefbe218a0>\u001b[0m in \u001b[0;36m<module>\u001b[0;34m()\u001b[0m\n\u001b[0;32m----> 1\u001b[0;31m \u001b[0mdatetime\u001b[0m\u001b[0;34m.\u001b[0m\u001b[0mdatetime\u001b[0m\u001b[0;34m.\u001b[0m\u001b[0mfromtimestamp\u001b[0m\u001b[0;34m(\u001b[0m\u001b[0maa\u001b[0m\u001b[0;34m,\u001b[0m \u001b[0mtimezone\u001b[0m\u001b[0;34m.\u001b[0m\u001b[0mutc\u001b[0m\u001b[0;34m)\u001b[0m\u001b[0;34m\u001b[0m\u001b[0m\n\u001b[0m",
      "\u001b[0;31mNameError\u001b[0m: name 'timezone' is not defined"
     ]
    }
   ],
   "source": [
    "datetime.datetime.fromtimestamp(aa, timezone.utc)"
   ]
  },
  {
   "cell_type": "code",
   "execution_count": 20,
   "metadata": {},
   "outputs": [
    {
     "data": {
      "text/plain": [
       "2"
      ]
     },
     "execution_count": 20,
     "metadata": {},
     "output_type": "execute_result"
    }
   ],
   "source": [
    "bb.minute"
   ]
  },
  {
   "cell_type": "code",
   "execution_count": 33,
   "metadata": {},
   "outputs": [],
   "source": [
    "def get_quarter_time(_time_now):\n",
    "    minute_quarter = _time_now.minute\n",
    "    quarter_time = ((minute_quarter//15)+1)*15\n",
    "    quarter_time_check = quarter_time if not quarter_time == 60 else '00'\n",
    "    return _time_now.strftime('%Y-%m-%d %H:{}:00').format(quarter_time_check)"
   ]
  },
  {
   "cell_type": "code",
   "execution_count": 34,
   "metadata": {},
   "outputs": [
    {
     "data": {
      "text/plain": [
       "'2018-01-28 01:00:00'"
      ]
     },
     "execution_count": 34,
     "metadata": {},
     "output_type": "execute_result"
    }
   ],
   "source": [
    "get_quarter_time(aa)"
   ]
  },
  {
   "cell_type": "code",
   "execution_count": null,
   "metadata": {},
   "outputs": [],
   "source": [
    "i = a if a > 5 else 0"
   ]
  }
 ],
 "metadata": {
  "kernelspec": {
   "display_name": "Python 3",
   "language": "python",
   "name": "python3"
  },
  "language_info": {
   "codemirror_mode": {
    "name": "ipython",
    "version": 3
   },
   "file_extension": ".py",
   "mimetype": "text/x-python",
   "name": "python",
   "nbconvert_exporter": "python",
   "pygments_lexer": "ipython3",
   "version": "3.5.4"
  }
 },
 "nbformat": 4,
 "nbformat_minor": 2
}
