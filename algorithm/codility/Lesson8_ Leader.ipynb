{
 "cells": [
  {
   "cell_type": "markdown",
   "metadata": {},
   "source": [
    "# Leader\n",
    "シーケンス $a_1,a_2,,,,,,a_{n-1}$  を考える。このシーケンスのリーダーは、値が n/2  回以上発生する要素です。"
   ]
  },
  {
   "cell_type": "code",
   "execution_count": 7,
   "metadata": {},
   "outputs": [],
   "source": [
    "A = [6,8,4,6,8,6,6]\n",
    "\n",
    "\n",
    "#一つ一つ見る方法\n",
    "#O(n^2)\n",
    "def slowLeader(A):\n",
    "    n = len(A)\n",
    "    leader = -1\n",
    "    for k in range(n): \n",
    "        candidate = A[k] \n",
    "        count = 0\n",
    "        for i in range(n):\n",
    "            if (A[i] == candidate):\n",
    "                count += 1\n",
    "            if (count > n // 2): \n",
    "                leader = candidate\n",
    "    return leader\n",
    "\n",
    "#O(nlogn)\n",
    "def fastLeader(A):\n",
    "    n = len(A)\n",
    "    leader = -1\n",
    "    A.sort()\n",
    "    candidate = A[n // 2]\n",
    "    count = 0\n",
    "    for i in range(n):\n",
    "        if (A[i] == candidate):\n",
    "            count += 1 \n",
    "    if(count>n//2):\n",
    "        leader = candidate \n",
    "    return leader"
   ]
  },
  {
   "cell_type": "code",
   "execution_count": null,
   "metadata": {},
   "outputs": [],
   "source": []
  },
  {
   "cell_type": "code",
   "execution_count": null,
   "metadata": {},
   "outputs": [],
   "source": []
  }
 ],
 "metadata": {
  "kernelspec": {
   "display_name": "Python [conda env:anaconda3-4.1.1]",
   "language": "python",
   "name": "conda-env-anaconda3-4.1.1-py"
  },
  "language_info": {
   "codemirror_mode": {
    "name": "ipython",
    "version": 3
   },
   "file_extension": ".py",
   "mimetype": "text/x-python",
   "name": "python",
   "nbconvert_exporter": "python",
   "pygments_lexer": "ipython3",
   "version": "3.5.4"
  }
 },
 "nbformat": 4,
 "nbformat_minor": 2
}
