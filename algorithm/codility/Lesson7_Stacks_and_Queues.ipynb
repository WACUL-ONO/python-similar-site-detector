{
 "cells": [
  {
   "cell_type": "code",
   "execution_count": 8,
   "metadata": {},
   "outputs": [],
   "source": [
    "#0 represents the action of a new person joining the line in the grocery store,\n",
    "#1 represents the action of the person at the front of the queue being served and leaving the line.\n",
    "\n",
    "def grocery_store(A):\n",
    "    n = len(A)\n",
    "    size, result = 0, 0 \n",
    "    for i in range(n):\n",
    "        if A[i] == 0: \n",
    "            size += 1\n",
    "        else:\n",
    "            size -= 1\n",
    "            result = max(result, -size) \n",
    "    return result"
   ]
  },
  {
   "cell_type": "code",
   "execution_count": 11,
   "metadata": {},
   "outputs": [
    {
     "data": {
      "text/plain": [
       "3"
      ]
     },
     "execution_count": 11,
     "metadata": {},
     "output_type": "execute_result"
    }
   ],
   "source": [
    "grocery_store([1,0,1,1,1,0,0,0,0])"
   ]
  },
  {
   "cell_type": "markdown",
   "metadata": {},
   "source": [
    "# Brackets"
   ]
  },
  {
   "cell_type": "code",
   "execution_count": 2,
   "metadata": {},
   "outputs": [],
   "source": [
    "def solution(S):\n",
    "    stack=[]\n",
    "    for i in S:\n",
    "        if i==\"{\" or i==\"[\" or i==\"(\":\n",
    "            stack.append(i)\n",
    "            \n",
    "        if len(stack)==0:\n",
    "            return 0\n",
    "            \n",
    "        elif i==\"}\" and stack[-1]==\"{\"\\\n",
    "        or i==\"]\" and stack[-1]==\"[\" \\\n",
    "        or  i==\")\" and stack[-1]==\"(\":\n",
    "            stack.pop()\n",
    "\n",
    "    if len(stack)==0:\n",
    "        return 1\n",
    "    return 0\n",
    "    "
   ]
  },
  {
   "cell_type": "markdown",
   "metadata": {},
   "source": [
    "# StoneWall"
   ]
  },
  {
   "cell_type": "code",
   "execution_count": null,
   "metadata": {},
   "outputs": [],
   "source": [
    "def solution(H):\n",
    "    stack = []\n",
    "    block_count = 0    # The number of needing blocks\n",
    " \n",
    "    for height in H:\n",
    "        while len(stack) != 0 and height < stack[-1]:\n",
    "            # If the height of current block is less than\n",
    "            #    the previous ones, the previous ones have\n",
    "            #    to end before current point. They have no\n",
    "            #    chance to exist in the remaining part.\n",
    "            # So the previous blocks are completely finished.\n",
    "            stack.pop()\n",
    "            block_count += 1\n",
    " \n",
    "        if len(stack) == 0 or height > stack[-1]:\n",
    "            # If the height of current block is greater than\n",
    "            #    the previous one, a new block is needed for\n",
    "            #    current position.\n",
    "            stack.append(height)\n",
    " \n",
    "        # Else (the height of current block is same as that\n",
    "        #    of previous one), they should be combined to\n",
    "        #    one block.\n",
    " \n",
    "    # Some blocks with different heights are still in the stack.\n",
    "    block_count += len(stack)\n",
    " \n",
    "    return block_count"
   ]
  },
  {
   "cell_type": "markdown",
   "metadata": {},
   "source": [
    "# Fish"
   ]
  },
  {
   "cell_type": "code",
   "execution_count": 21,
   "metadata": {},
   "outputs": [
    {
     "data": {
      "text/plain": [
       "[1, 2]"
      ]
     },
     "execution_count": 21,
     "metadata": {},
     "output_type": "execute_result"
    }
   ],
   "source": [
    "A=[1,2,3]\n",
    "A.pop()\n",
    "A"
   ]
  },
  {
   "cell_type": "code",
   "execution_count": 29,
   "metadata": {},
   "outputs": [],
   "source": [
    "def solution(A, B):\n",
    "    fish = len(A)\n",
    "    list_size_fish = []\n",
    "    for size,binary in zip(A,B):\n",
    "        if binary !=0:\n",
    "            list_size_fish.append(size)\n",
    "        else:\n",
    "            while len(list_size_fish)>0:\n",
    "                if list_size_fish[-1] < size:\n",
    "                    list_size_fish.pop()\n",
    "                    fish -= 1\n",
    "                else:\n",
    "                    fish -= 1\n",
    "                    break\n",
    "    return fish\n",
    "        \n",
    "        \n",
    "    "
   ]
  },
  {
   "cell_type": "code",
   "execution_count": 30,
   "metadata": {},
   "outputs": [
    {
     "data": {
      "text/plain": [
       "5"
      ]
     },
     "execution_count": 30,
     "metadata": {},
     "output_type": "execute_result"
    }
   ],
   "source": [
    "A = [4,1,3,1,1]\n",
    "B = [0,0,1,1,1]\n",
    "solution(A, B)"
   ]
  },
  {
   "cell_type": "code",
   "execution_count": 31,
   "metadata": {},
   "outputs": [
    {
     "data": {
      "text/plain": [
       "2"
      ]
     },
     "execution_count": 31,
     "metadata": {},
     "output_type": "execute_result"
    }
   ],
   "source": [
    "A = [4,3,2,1,5]\n",
    "B = [0,1,0,0,0]\n",
    "solution(A, B)"
   ]
  },
  {
   "cell_type": "markdown",
   "metadata": {},
   "source": [
    "# Nesting"
   ]
  },
  {
   "cell_type": "code",
   "execution_count": 5,
   "metadata": {},
   "outputs": [],
   "source": [
    "def solution(S):\n",
    "    if len(S)==0:\n",
    "        return 1\n",
    "    stack = []\n",
    "    for i in S:\n",
    "        if i==\"(\":\n",
    "            stack.append(i)\n",
    "        elif len(stack) == 0:\n",
    "            return 0\n",
    "        elif i==\")\" and stack[-1]==\"(\":\n",
    "            stack.pop()\n",
    "    if len(stack) == 0:\n",
    "        return 1\n",
    "    return 0\n",
    "\n",
    "\n",
    "#別解（https://codesays.com/2014/solution-to-nesting-by-codility/）\n",
    "#スタック使わなくて良い\n",
    "def solution(S):\n",
    "    parentheses = 0\n",
    " \n",
    "    for element in S:\n",
    "        if element == \"(\":\n",
    "            parentheses += 1\n",
    "        else:\n",
    "            parentheses -= 1\n",
    "            if parentheses < 0:\n",
    "                return 0\n",
    " \n",
    "    if parentheses == 0:\n",
    "        return 1\n",
    "    else:\n",
    "        return 0\n",
    "        "
   ]
  },
  {
   "cell_type": "code",
   "execution_count": 6,
   "metadata": {},
   "outputs": [
    {
     "data": {
      "text/plain": [
       "0"
      ]
     },
     "execution_count": 6,
     "metadata": {},
     "output_type": "execute_result"
    }
   ],
   "source": [
    "solution( \"())\")"
   ]
  },
  {
   "cell_type": "code",
   "execution_count": null,
   "metadata": {},
   "outputs": [],
   "source": []
  },
  {
   "cell_type": "code",
   "execution_count": null,
   "metadata": {},
   "outputs": [],
   "source": []
  }
 ],
 "metadata": {
  "kernelspec": {
   "display_name": "Python [conda env:anaconda3-4.1.1]",
   "language": "python",
   "name": "conda-env-anaconda3-4.1.1-py"
  },
  "language_info": {
   "codemirror_mode": {
    "name": "ipython",
    "version": 3
   },
   "file_extension": ".py",
   "mimetype": "text/x-python",
   "name": "python",
   "nbconvert_exporter": "python",
   "pygments_lexer": "ipython3",
   "version": "3.5.4"
  }
 },
 "nbformat": 4,
 "nbformat_minor": 2
}
