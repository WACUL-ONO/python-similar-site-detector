{
 "cells": [
  {
   "cell_type": "markdown",
   "metadata": {},
   "source": [
    "# Exercise"
   ]
  },
  {
   "cell_type": "code",
   "execution_count": 3,
   "metadata": {},
   "outputs": [],
   "source": [
    "def counting(A, m):\n",
    "    n = len(A)\n",
    "    count = [0] * (m + 1)\n",
    "    for k in range(n):\n",
    "        count[A[k]] += 1\n",
    "    return count"
   ]
  },
  {
   "cell_type": "code",
   "execution_count": 4,
   "metadata": {},
   "outputs": [],
   "source": [
    "def slow_solution(A, B, m):\n",
    "    n = len(A)\n",
    "    sum_a = sum(A)\n",
    "    sum_b = sum(B)\n",
    "    for i in range(n):\n",
    "        for j in range(n):\n",
    "            change = B[j] - A[i]\n",
    "            sum_a += change\n",
    "            sum_b -= change\n",
    "            #チェック\n",
    "            if sum_a == sum_b:\n",
    "                 return True\n",
    "            #元に戻る\n",
    "            sum_a -= change\n",
    "            sum_b += change\n",
    "    #最終的になければFalse\n",
    "    return False\n",
    "\n"
   ]
  },
  {
   "cell_type": "code",
   "execution_count": 6,
   "metadata": {},
   "outputs": [],
   "source": [
    "A = [1,2,4,4,5]\n",
    "B = [1,2,3,3,5]\n"
   ]
  },
  {
   "cell_type": "code",
   "execution_count": 9,
   "metadata": {},
   "outputs": [
    {
     "data": {
      "text/plain": [
       "[0, 1, 1, 2, 0, 1]"
      ]
     },
     "execution_count": 9,
     "metadata": {},
     "output_type": "execute_result"
    }
   ],
   "source": [
    "counting(B,5)"
   ]
  },
  {
   "cell_type": "code",
   "execution_count": 10,
   "metadata": {},
   "outputs": [
    {
     "data": {
      "text/plain": [
       "[0, 1, 1, 0, 2, 1]"
      ]
     },
     "execution_count": 10,
     "metadata": {},
     "output_type": "execute_result"
    }
   ],
   "source": [
    "counting(A,5)"
   ]
  },
  {
   "cell_type": "code",
   "execution_count": 14,
   "metadata": {},
   "outputs": [],
   "source": [
    "def fast_solution(A, B, m):\n",
    "    n = len(A)\n",
    "    sum_a = sum(A)\n",
    "    sum_b = sum(B)\n",
    "    d = sum_b - sum_a\n",
    "    if d % 2 == 1:\n",
    "        return False\n",
    "    d //= 2\n",
    "    count = counting(A, m)\n",
    "    for i in range(n):\n",
    "        if 0 <= B[i] - d and B[i] - d <= m and count[B[i] - d] > 0:\n",
    "             return True\n",
    "    return False"
   ]
  },
  {
   "cell_type": "code",
   "execution_count": 15,
   "metadata": {},
   "outputs": [
    {
     "data": {
      "text/plain": [
       "True"
      ]
     },
     "execution_count": 15,
     "metadata": {},
     "output_type": "execute_result"
    }
   ],
   "source": [
    "fast_solution(A, B, 5)"
   ]
  },
  {
   "cell_type": "markdown",
   "metadata": {},
   "source": [
    "# PermCheck"
   ]
  },
  {
   "cell_type": "code",
   "execution_count": 53,
   "metadata": {},
   "outputs": [],
   "source": [
    "def solution(A):\n",
    "    counter=[0]*len(A)\n",
    "    permu=[1]*len(A)\n",
    "    \n",
    "    for i in range(len(A)):\n",
    "        #ここ重要\n",
    "        if A[i]<=len(A):\n",
    "            counter[A[i]-1]+=1\n",
    "    if permu==counter:\n",
    "        return 1\n",
    "    return 0\n",
    "    "
   ]
  },
  {
   "cell_type": "code",
   "execution_count": 45,
   "metadata": {},
   "outputs": [],
   "source": [
    "#別解\n",
    "#[1, 4, 1]に引っかかる[1,2,3]\n",
    "def solution(A):\n",
    "    n= len(A)\n",
    "    permu_sum = n*(n+1)/2\n",
    "    sum_A = sum(A)\n",
    "    if permu_sum == sum_A:\n",
    "        return 1\n",
    "    return 0\n",
    "\n",
    "#一応これでもいける\n",
    "def solution(A):\n",
    "    n= len(A)\n",
    "    permu_sum = n*(n+1)/2\n",
    "    sum_A = sum(set(A))\n",
    "    if permu_sum == sum_A:\n",
    "        return 1\n",
    "    return 0\n"
   ]
  },
  {
   "cell_type": "markdown",
   "metadata": {},
   "source": [
    "# FrogRiverOne"
   ]
  },
  {
   "cell_type": "code",
   "execution_count": 59,
   "metadata": {},
   "outputs": [],
   "source": [
    "#O(N ** 2)になってしまう\n",
    "def solution(X, A):\n",
    "    lenA = len(A)\n",
    "    counter = [0]*X\n",
    "    for i in range(lenA):\n",
    "        counter[A[i]-1]+=1\n",
    "        if not 0 in counter:\n",
    "            return i\n",
    "    return -1\n",
    "        "
   ]
  },
  {
   "cell_type": "code",
   "execution_count": 73,
   "metadata": {},
   "outputs": [],
   "source": [
    "def solution(X, A):\n",
    "    lenA = len(A)\n",
    "    counter = [0]*X\n",
    "    count = 0\n",
    "    for i in range(lenA):\n",
    "        if counter[A[i]-1] ==0:\n",
    "            count+=1\n",
    "            counter[A[i]-1] +=1\n",
    "            if count==X:\n",
    "                return i\n",
    "        else:\n",
    "            continue\n",
    "\n",
    "    return -1\n",
    "    "
   ]
  },
  {
   "cell_type": "code",
   "execution_count": 74,
   "metadata": {},
   "outputs": [
    {
     "data": {
      "text/plain": [
       "6"
      ]
     },
     "execution_count": 74,
     "metadata": {},
     "output_type": "execute_result"
    }
   ],
   "source": [
    "solution(X, A)\n"
   ]
  },
  {
   "cell_type": "code",
   "execution_count": 75,
   "metadata": {},
   "outputs": [
    {
     "data": {
      "text/plain": [
       "[1, 3, 1, 4, 2, 3, 5, 4]"
      ]
     },
     "execution_count": 75,
     "metadata": {},
     "output_type": "execute_result"
    }
   ],
   "source": [
    "A"
   ]
  },
  {
   "cell_type": "markdown",
   "metadata": {},
   "source": [
    "# MissingInteger"
   ]
  },
  {
   "cell_type": "code",
   "execution_count": 143,
   "metadata": {},
   "outputs": [],
   "source": [
    "def solution(A):\n",
    "    counter=[0]*len(A)\n",
    "  \n",
    "    permu=[1]*len(A)\n",
    "    for i in A:\n",
    "        if 0<i<=len(A):\n",
    "            counter[i-1]+=1\n",
    "            \n",
    "    #print(counter)\n",
    "            \n",
    "    for j in range(len(counter)):\n",
    "        if counter[j]==0:\n",
    "            return j+1\n",
    "        \n",
    "    return len(A)+1\n",
    "    "
   ]
  },
  {
   "cell_type": "code",
   "execution_count": 144,
   "metadata": {},
   "outputs": [
    {
     "data": {
      "text/plain": [
       "1"
      ]
     },
     "execution_count": 144,
     "metadata": {},
     "output_type": "execute_result"
    }
   ],
   "source": [
    "A=[-1,-2]\n",
    "solution(A)"
   ]
  },
  {
   "cell_type": "code",
   "execution_count": null,
   "metadata": {},
   "outputs": [],
   "source": []
  },
  {
   "cell_type": "code",
   "execution_count": null,
   "metadata": {},
   "outputs": [],
   "source": []
  }
 ],
 "metadata": {
  "kernelspec": {
   "display_name": "Python [conda env:anaconda3-4.1.1]",
   "language": "python",
   "name": "conda-env-anaconda3-4.1.1-py"
  },
  "language_info": {
   "codemirror_mode": {
    "name": "ipython",
    "version": 3
   },
   "file_extension": ".py",
   "mimetype": "text/x-python",
   "name": "python",
   "nbconvert_exporter": "python",
   "pygments_lexer": "ipython3",
   "version": "3.5.4"
  }
 },
 "nbformat": 4,
 "nbformat_minor": 2
}
