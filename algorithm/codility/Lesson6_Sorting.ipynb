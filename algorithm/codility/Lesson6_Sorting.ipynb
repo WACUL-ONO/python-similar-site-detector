{
 "cells": [
  {
   "cell_type": "markdown",
   "metadata": {},
   "source": [
    "# 参考\n",
    "https://qiita.com/sue_charo/items/30f5d817da4c948c3be6"
   ]
  },
  {
   "cell_type": "code",
   "execution_count": 10,
   "metadata": {},
   "outputs": [],
   "source": [
    "#O(n2)\n",
    "def selectionSort(A): \n",
    "    n = len(A)\n",
    "    for k in range(n):\n",
    "        minimal = k\n",
    "        for j in range(k + 1, n):\n",
    "            if A[j] < A[minimal]:\n",
    "                minimal = j\n",
    "                A[k], A[minimal] = A[minimal], A[k] # swap A[k] and A[minimal]\n",
    "    return A\n"
   ]
  },
  {
   "cell_type": "code",
   "execution_count": 11,
   "metadata": {},
   "outputs": [
    {
     "data": {
      "text/plain": [
       "[1, 2, 5, 8, 14, 16]"
      ]
     },
     "execution_count": 11,
     "metadata": {},
     "output_type": "execute_result"
    }
   ],
   "source": [
    "A = [5,2,8,14,1,16]\n",
    "selectionSort(A)"
   ]
  },
  {
   "cell_type": "code",
   "execution_count": 13,
   "metadata": {},
   "outputs": [],
   "source": [
    "#O(n + k)\n",
    "def countingSort(A, k): \n",
    "    n = len(A)\n",
    "    count=[0]*(k+1)\n",
    "    for i in range(n):\n",
    "        count[A[i]] += 1 \n",
    "    p=0\n",
    "    for i in range(k + 1):\n",
    "        for j in range(count[i]):\n",
    "            A[p] = i\n",
    "            p += 1\n",
    "    return A"
   ]
  },
  {
   "cell_type": "code",
   "execution_count": 21,
   "metadata": {},
   "outputs": [
    {
     "data": {
      "text/plain": [
       "[1, 2, 5, 8, 14, 16]"
      ]
     },
     "execution_count": 21,
     "metadata": {},
     "output_type": "execute_result"
    }
   ],
   "source": [
    "countingSort(A, 16)"
   ]
  },
  {
   "cell_type": "code",
   "execution_count": 23,
   "metadata": {},
   "outputs": [
    {
     "data": {
      "text/plain": [
       "[1, 2, 5, 8, 14, 16]"
      ]
     },
     "execution_count": 23,
     "metadata": {},
     "output_type": "execute_result"
    }
   ],
   "source": [
    "#Built-in sort — O(nlogn)\n",
    "A.sort()\n",
    "A"
   ]
  },
  {
   "cell_type": "markdown",
   "metadata": {},
   "source": [
    "# Exercise"
   ]
  },
  {
   "cell_type": "code",
   "execution_count": 3,
   "metadata": {},
   "outputs": [],
   "source": [
    "#setのこと？？\n",
    "#重複しない数が何個あるか？\n",
    "def distinct(A):\n",
    "    n = len(A)\n",
    "    A.sort()\n",
    "    result = 1\n",
    "    for k in range(1, n):\n",
    "        if A[k] != A[k - 1]: \n",
    "            result += 1\n",
    "    return result"
   ]
  },
  {
   "cell_type": "code",
   "execution_count": null,
   "metadata": {},
   "outputs": [],
   "source": []
  },
  {
   "cell_type": "code",
   "execution_count": 4,
   "metadata": {},
   "outputs": [],
   "source": [
    "A = [2,1,1,2,3,1]"
   ]
  },
  {
   "cell_type": "markdown",
   "metadata": {},
   "source": [
    "# Distinct"
   ]
  },
  {
   "cell_type": "code",
   "execution_count": 8,
   "metadata": {},
   "outputs": [],
   "source": [
    "#Exerciseの通りにやると91%\n",
    "\n",
    "def solution(A):\n",
    "    if len(A)==0:\n",
    "        return 0\n",
    "    n = len(A)\n",
    "    A.sort()\n",
    "    result = 1\n",
    "    for k in range(1, n):\n",
    "        if A[k] != A[k - 1]: \n",
    "            result += 1\n",
    "    return result\n",
    "\n"
   ]
  },
  {
   "cell_type": "code",
   "execution_count": 10,
   "metadata": {},
   "outputs": [],
   "source": [
    "#別解\n",
    "def solution(A):\n",
    "    return len(set(A))\n"
   ]
  },
  {
   "cell_type": "markdown",
   "metadata": {},
   "source": [
    "# Triangle"
   ]
  },
  {
   "cell_type": "code",
   "execution_count": 29,
   "metadata": {},
   "outputs": [],
   "source": [
    "A = [10,2,5,1,8,20]\n",
    "def solution(A):\n",
    "    A.sort(reverse=True)\n",
    "    lenA=len(A)\n",
    "    for i in range(lenA-2):\n",
    "        #A[i]<A[i+1]+A[i+2] : #多分これでおk\n",
    "        if A[i]<A[i+1]+A[i+2] and A[i+1]<A[i]+A[i+2] and  A[i+2]<A[i]+A[i+1]:\n",
    "            return 1\n",
    "        else:\n",
    "            continue\n",
    "    return 0\n",
    "\n"
   ]
  },
  {
   "cell_type": "code",
   "execution_count": 44,
   "metadata": {},
   "outputs": [],
   "source": [
    "A=[-3,1,2,-2,5,6]\n"
   ]
  },
  {
   "cell_type": "code",
   "execution_count": 51,
   "metadata": {},
   "outputs": [],
   "source": [
    "def solution(A):\n",
    "    A.sort()\n",
    "    triplet_pos = A[-1]*A[-2]*A[-3]\n",
    "    triplet_neg = A[0]*A[1]*A[-1]    \n",
    "    return max(triplet_pos,triplet_neg)"
   ]
  },
  {
   "cell_type": "code",
   "execution_count": 52,
   "metadata": {},
   "outputs": [
    {
     "name": "stdout",
     "output_type": "stream",
     "text": [
      "36\n"
     ]
    },
    {
     "data": {
      "text/plain": [
       "60"
      ]
     },
     "execution_count": 52,
     "metadata": {},
     "output_type": "execute_result"
    }
   ],
   "source": []
  },
  {
   "cell_type": "code",
   "execution_count": null,
   "metadata": {},
   "outputs": [],
   "source": []
  },
  {
   "cell_type": "code",
   "execution_count": 39,
   "metadata": {},
   "outputs": [
    {
     "data": {
      "text/plain": [
       "2"
      ]
     },
     "execution_count": 39,
     "metadata": {},
     "output_type": "execute_result"
    }
   ],
   "source": [
    "max(1,2)"
   ]
  },
  {
   "cell_type": "code",
   "execution_count": null,
   "metadata": {},
   "outputs": [],
   "source": []
  }
 ],
 "metadata": {
  "kernelspec": {
   "display_name": "Python [conda env:anaconda3-4.1.1]",
   "language": "python",
   "name": "conda-env-anaconda3-4.1.1-py"
  },
  "language_info": {
   "codemirror_mode": {
    "name": "ipython",
    "version": 3
   },
   "file_extension": ".py",
   "mimetype": "text/x-python",
   "name": "python",
   "nbconvert_exporter": "python",
   "pygments_lexer": "ipython3",
   "version": "3.5.4"
  }
 },
 "nbformat": 4,
 "nbformat_minor": 2
}
