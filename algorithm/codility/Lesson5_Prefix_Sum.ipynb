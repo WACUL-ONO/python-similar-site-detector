{
 "cells": [
  {
   "cell_type": "code",
   "execution_count": 25,
   "metadata": {},
   "outputs": [],
   "source": [
    "#O(n).\n",
    "def prefix_sums(A):\n",
    "    n = len(A)\n",
    "    P = [0] * (n + 1)\n",
    "    for k in range(1, n + 1):\n",
    "        P[k] = P[k - 1] + A[k - 1]\n",
    "        print(P)\n",
    "    return P"
   ]
  },
  {
   "cell_type": "code",
   "execution_count": 26,
   "metadata": {},
   "outputs": [
    {
     "name": "stdout",
     "output_type": "stream",
     "text": [
      "[0, 1, 0, 0, 0, 0, 0, 0]\n",
      "[0, 1, 4, 0, 0, 0, 0, 0]\n",
      "[0, 1, 4, 9, 0, 0, 0, 0]\n",
      "[0, 1, 4, 9, 12, 0, 0, 0]\n",
      "[0, 1, 4, 9, 12, 14, 0, 0]\n",
      "[0, 1, 4, 9, 12, 14, 15, 0]\n",
      "[0, 1, 4, 9, 12, 14, 15, 17]\n"
     ]
    },
    {
     "data": {
      "text/plain": [
       "[0, 1, 4, 9, 12, 14, 15, 17]"
      ]
     },
     "execution_count": 26,
     "metadata": {},
     "output_type": "execute_result"
    }
   ],
   "source": [
    "A=[1,3,5,3,2,1,2]\n",
    "prefix_sums(A)"
   ]
  },
  {
   "cell_type": "code",
   "execution_count": 27,
   "metadata": {},
   "outputs": [],
   "source": [
    "#普通にやったらO(n*m)らしい（本当か？）\n",
    "\n",
    "def test(A):\n",
    "    _list=[0]\n",
    "    sum_i = 0\n",
    "    for i in A:\n",
    "        sum_i += i\n",
    "        _list.append(sum_i)\n",
    "    return _list"
   ]
  },
  {
   "cell_type": "code",
   "execution_count": 28,
   "metadata": {},
   "outputs": [
    {
     "data": {
      "text/plain": [
       "[0, 1, 4, 9, 12, 14, 15, 17]"
      ]
     },
     "execution_count": 28,
     "metadata": {},
     "output_type": "execute_result"
    }
   ],
   "source": [
    "test(A)"
   ]
  },
  {
   "cell_type": "markdown",
   "metadata": {},
   "source": [
    "# CountDiv"
   ]
  },
  {
   "cell_type": "code",
   "execution_count": 29,
   "metadata": {},
   "outputs": [],
   "source": [
    "def solution(A, B, K):\n",
    "    if A%K ==0:\n",
    "        return ((B-A)//K)+1\n",
    "    return ((B//K)-(A//K))"
   ]
  },
  {
   "cell_type": "markdown",
   "metadata": {},
   "source": [
    "# PassingCars"
   ]
  },
  {
   "cell_type": "code",
   "execution_count": 40,
   "metadata": {},
   "outputs": [],
   "source": [
    "A = [0,0,1,0,1,1]\n",
    "\n",
    "\n",
    "#PassingCars > 1000000000の条件をつけなかったら70%だった\n",
    "def solution(A):\n",
    "    PassingCars = 0\n",
    "    car = 0\n",
    "    for i in A:\n",
    "        #これ忘れると70%なので注意\n",
    "        if PassingCars > 1000000000:\n",
    "            return -1\n",
    "        if i==0:\n",
    "            car += 1\n",
    "        else:\n",
    "            PassingCars += car\n",
    "    return PassingCars"
   ]
  },
  {
   "cell_type": "code",
   "execution_count": null,
   "metadata": {},
   "outputs": [],
   "source": []
  }
 ],
 "metadata": {
  "kernelspec": {
   "display_name": "Python [conda env:anaconda3-4.1.1]",
   "language": "python",
   "name": "conda-env-anaconda3-4.1.1-py"
  },
  "language_info": {
   "codemirror_mode": {
    "name": "ipython",
    "version": 3
   },
   "file_extension": ".py",
   "mimetype": "text/x-python",
   "name": "python",
   "nbconvert_exporter": "python",
   "pygments_lexer": "ipython3",
   "version": "3.5.4"
  }
 },
 "nbformat": 4,
 "nbformat_minor": 2
}
